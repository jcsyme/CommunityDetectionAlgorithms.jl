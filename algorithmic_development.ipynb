{
 "cells": [
  {
   "cell_type": "code",
   "execution_count": 1,
   "id": "b80cc269-84b0-47d7-be36-d0a1616bbc61",
   "metadata": {},
   "outputs": [],
   "source": []
  },
  {
   "cell_type": "code",
   "execution_count": 1,
   "id": "71a08c2c-4316-4318-b20b-cff9afd59521",
   "metadata": {
    "jp-MarkdownHeadingCollapsed": true
   },
   "outputs": [
    {
     "name": "stderr",
     "output_type": "stream",
     "text": [
      "\u001b[32m\u001b[1m  Activating\u001b[22m\u001b[39m project at `~/git/CommunityDetectionAlgorithms.jl`\n"
     ]
    }
   ],
   "source": [
    "using Revise \n",
    "using Pkg\n",
    "Pkg.activate(\".\")\n",
    "\n",
    "using Graphs\n",
    "using Random\n",
    "using SimpleWeightedGraphs\n",
    "using SparseArrays\n",
    "using StatsBase"
   ]
  },
  {
   "cell_type": "code",
   "execution_count": 17,
   "id": "241f144e-2bdf-4562-8c24-b0ef352ee3f0",
   "metadata": {},
   "outputs": [
    {
     "name": "stderr",
     "output_type": "stream",
     "text": [
      "\u001b[32m\u001b[1m    Updating\u001b[22m\u001b[39m `~/git/CommunityDetectionAlgorithms.jl/Project.toml`\n",
      "  \u001b[90m[a4c9077e] \u001b[39m\u001b[91m- IterativeHeaps v1.1.0 `~/git/IterativeHeaps.jl`\u001b[39m\n",
      "\u001b[32m\u001b[1m    Updating\u001b[22m\u001b[39m `~/git/CommunityDetectionAlgorithms.jl/Manifest.toml`\n",
      "  \u001b[90m[a4c9077e] \u001b[39m\u001b[91m- IterativeHeaps v1.1.0 `~/git/IterativeHeaps.jl`\u001b[39m\n"
     ]
    }
   ],
   "source": [
    "Pkg.rm(\"IterativeHeaps\")"
   ]
  },
  {
   "cell_type": "code",
   "execution_count": null,
   "id": "ec8c37e6-5a38-4583-84e2-57b4c7fe4ead",
   "metadata": {},
   "outputs": [],
   "source": []
  },
  {
   "cell_type": "code",
   "execution_count": 2,
   "id": "0b163852-f231-4a3d-806d-7200954e9392",
   "metadata": {
    "collapsed": true,
    "jupyter": {
     "outputs_hidden": true
    },
    "tags": []
   },
   "outputs": [
    {
     "name": "stderr",
     "output_type": "stream",
     "text": [
      "\u001b[32m\u001b[1m   Resolving\u001b[22m\u001b[39m package versions...\n",
      "\u001b[32m\u001b[1m  No Changes\u001b[22m\u001b[39m to `~/git/CommunityDetectionAlgorithms.jl/Project.toml`\n",
      "\u001b[32m\u001b[1m  No Changes\u001b[22m\u001b[39m to `~/git/CommunityDetectionAlgorithms.jl/Manifest.toml`\n",
      "\u001b[32m\u001b[1m     Cloning\u001b[22m\u001b[39m git-repo `https://github.com/jcsyme/GraphDistanceAlgorithms.jl`\n",
      "Path `/Users/usuario/.julia/dev/GraphDistanceAlgorithms` exists and looks like the correct repo. Using existing path.\n",
      "\u001b[32m\u001b[1m   Resolving\u001b[22m\u001b[39m package versions...\n",
      "\u001b[32m\u001b[1m    Updating\u001b[22m\u001b[39m `~/git/CommunityDetectionAlgorithms.jl/Project.toml`\n",
      "  \u001b[90m[3fdb58ca] \u001b[39m\u001b[92m+ GraphDistanceAlgorithms v0.1.0 `~/.julia/dev/GraphDistanceAlgorithms`\u001b[39m\n",
      "\u001b[32m\u001b[1m    Updating\u001b[22m\u001b[39m `~/git/CommunityDetectionAlgorithms.jl/Manifest.toml`\n",
      "  \u001b[90m[aaf54ef3] \u001b[39m\u001b[92m+ DistributedArrays v0.6.7\u001b[39m\n",
      "  \u001b[90m[3fdb58ca] \u001b[39m\u001b[92m+ GraphDistanceAlgorithms v0.1.0 `~/.julia/dev/GraphDistanceAlgorithms`\u001b[39m\n",
      "  \u001b[90m[18e54dd8] \u001b[39m\u001b[92m+ IntegerMathUtils v0.1.2\u001b[39m\n",
      "  \u001b[90m[27ebfcd6] \u001b[39m\u001b[92m+ Primes v0.5.7\u001b[39m\n",
      "  \u001b[90m[0dad84c5] \u001b[39m\u001b[92m+ ArgTools v1.1.1\u001b[39m\n",
      "  \u001b[90m[f43a241f] \u001b[39m\u001b[92m+ Downloads v1.6.0\u001b[39m\n",
      "  \u001b[90m[7b1f6079] \u001b[39m\u001b[92m+ FileWatching\u001b[39m\n",
      "  \u001b[90m[b27032c2] \u001b[39m\u001b[92m+ LibCURL v0.6.4\u001b[39m\n",
      "  \u001b[90m[76f85450] \u001b[39m\u001b[92m+ LibGit2\u001b[39m\n",
      "  \u001b[90m[56ddb016] \u001b[39m\u001b[92m+ Logging\u001b[39m\n",
      "  \u001b[90m[ca575930] \u001b[39m\u001b[92m+ NetworkOptions v1.2.0\u001b[39m\n",
      "  \u001b[90m[44cfe95a] \u001b[39m\u001b[92m+ Pkg v1.10.0\u001b[39m\n",
      "  \u001b[90m[3fa0cd96] \u001b[39m\u001b[92m+ REPL\u001b[39m\n",
      "  \u001b[90m[a4e569a6] \u001b[39m\u001b[92m+ Tar v1.10.0\u001b[39m\n",
      "  \u001b[90m[deac9b47] \u001b[39m\u001b[92m+ LibCURL_jll v8.4.0+0\u001b[39m\n",
      "  \u001b[90m[e37daf67] \u001b[39m\u001b[92m+ LibGit2_jll v1.6.4+0\u001b[39m\n",
      "  \u001b[90m[29816b5a] \u001b[39m\u001b[92m+ LibSSH2_jll v1.11.0+1\u001b[39m\n",
      "  \u001b[90m[c8ffd9c3] \u001b[39m\u001b[92m+ MbedTLS_jll v2.28.2+1\u001b[39m\n",
      "  \u001b[90m[14a3606d] \u001b[39m\u001b[92m+ MozillaCACerts_jll v2023.1.10\u001b[39m\n",
      "  \u001b[90m[83775a58] \u001b[39m\u001b[92m+ Zlib_jll v1.2.13+1\u001b[39m\n",
      "  \u001b[90m[8e850ede] \u001b[39m\u001b[92m+ nghttp2_jll v1.52.0+1\u001b[39m\n",
      "  \u001b[90m[3f19e933] \u001b[39m\u001b[92m+ p7zip_jll v17.4.0+2\u001b[39m\n",
      "\u001b[32m\u001b[1mPrecompiling\u001b[22m\u001b[39m GraphDistanceAlgorithms\n",
      "\u001b[32m  ✓ \u001b[39mGraphDistanceAlgorithms\n",
      "  1 dependency successfully precompiled in 1 seconds. 33 already precompiled.\n",
      "\u001b[32m\u001b[1m     Cloning\u001b[22m\u001b[39m git-repo `https://github.com/jcsyme/GraphFragments.jl`\n",
      "Path `/Users/usuario/.julia/dev/GraphFragments` exists and looks like the correct repo. Using existing path.\n",
      "\u001b[32m\u001b[1m   Resolving\u001b[22m\u001b[39m package versions...\n",
      "\u001b[32m\u001b[1m    Updating\u001b[22m\u001b[39m `~/git/CommunityDetectionAlgorithms.jl/Project.toml`\n",
      "  \u001b[90m[914fef10] \u001b[39m\u001b[92m+ GraphFragments v0.1.0 `~/.julia/dev/GraphFragments`\u001b[39m\n",
      "\u001b[32m\u001b[1m    Updating\u001b[22m\u001b[39m `~/git/CommunityDetectionAlgorithms.jl/Manifest.toml`\n",
      "  \u001b[90m[914fef10] \u001b[39m\u001b[92m+ GraphFragments v0.1.0 `~/.julia/dev/GraphFragments`\u001b[39m\n",
      "\u001b[32m\u001b[1mPrecompiling\u001b[22m\u001b[39m GraphFragments\n",
      "\u001b[32m  ✓ \u001b[39mGraphFragments\n",
      "  1 dependency successfully precompiled in 1 seconds. 34 already precompiled.\n",
      "\u001b[32m\u001b[1m     Cloning\u001b[22m\u001b[39m git-repo `https://github.com/jcsyme/DiscreteGraphAlgorithms.jl`\n",
      "Path `/Users/usuario/.julia/dev/DiscreteGraphAlgorithms` exists and looks like the correct repo. Using existing path.\n",
      "\u001b[32m\u001b[1m   Resolving\u001b[22m\u001b[39m package versions...\n",
      "\u001b[32m\u001b[1m   Installed\u001b[22m\u001b[39m MathOptInterface ─ v1.40.1\n",
      "\u001b[32m\u001b[1m   Installed\u001b[22m\u001b[39m TypeUtils ──────── v1.7.1\n",
      "\u001b[32m\u001b[1m   Installed\u001b[22m\u001b[39m LazySets ───────── v4.0.0\n",
      "\u001b[32m\u001b[1m    Updating\u001b[22m\u001b[39m `~/git/CommunityDetectionAlgorithms.jl/Project.toml`\n",
      "  \u001b[90m[07f0ec66] \u001b[39m\u001b[92m+ DiscreteGraphAlgorithms v0.1.0 `~/.julia/dev/DiscreteGraphAlgorithms`\u001b[39m\n",
      "\u001b[32m\u001b[1m    Updating\u001b[22m\u001b[39m `~/git/CommunityDetectionAlgorithms.jl/Manifest.toml`\n",
      "  \u001b[90m[dce04be8] \u001b[39m\u001b[92m+ ArgCheck v2.5.0\u001b[39m\n",
      "  \u001b[90m[6e4b80f9] \u001b[39m\u001b[92m+ BenchmarkTools v1.6.0\u001b[39m\n",
      "  \u001b[90m[96374032] \u001b[39m\u001b[92m+ CRlibm v1.0.2\u001b[39m\n",
      "  \u001b[90m[336ed68f] \u001b[39m\u001b[92m+ CSV v0.10.15\u001b[39m\n",
      "  \u001b[90m[523fee87] \u001b[39m\u001b[92m+ CodecBzip2 v0.8.5\u001b[39m\n",
      "  \u001b[90m[6309b1aa] \u001b[39m\u001b[92m+ CodecInflate64 v0.1.3\u001b[39m\n",
      "  \u001b[90m[944b1d66] \u001b[39m\u001b[92m+ CodecZlib v0.7.8\u001b[39m\n",
      "  \u001b[90m[bbf7d656] \u001b[39m\u001b[92m+ CommonSubexpressions v0.3.1\u001b[39m\n",
      "  \u001b[90m[a8cc5b0e] \u001b[39m\u001b[92m+ Crayons v4.1.1\u001b[39m\n",
      "  \u001b[90m[a93c6f00] \u001b[39m\u001b[92m+ DataFrames v1.7.0\u001b[39m\n",
      "  \u001b[90m[e2d170a0] \u001b[39m\u001b[92m+ DataValueInterfaces v1.0.0\u001b[39m\n",
      "  \u001b[90m[163ba53b] \u001b[39m\u001b[92m+ DiffResults v1.1.0\u001b[39m\n",
      "  \u001b[90m[b552c78f] \u001b[39m\u001b[92m+ DiffRules v1.15.1\u001b[39m\n",
      "  \u001b[90m[07f0ec66] \u001b[39m\u001b[92m+ DiscreteGraphAlgorithms v0.1.0 `~/.julia/dev/DiscreteGraphAlgorithms`\u001b[39m\n",
      "  \u001b[90m[4e289a0a] \u001b[39m\u001b[92m+ EnumX v1.0.5\u001b[39m\n",
      "  \u001b[90m[90fa49ef] \u001b[39m\u001b[92m+ ErrorfreeArithmetic v0.5.2\u001b[39m\n",
      "  \u001b[90m[e2ba6199] \u001b[39m\u001b[92m+ ExprTools v0.1.10\u001b[39m\n",
      "  \u001b[90m[8f5d6c58] \u001b[39m\u001b[92m+ EzXML v1.2.1\u001b[39m\n",
      "  \u001b[90m[fa42c844] \u001b[39m\u001b[92m+ FastRounding v0.3.1\u001b[39m\n",
      "  \u001b[90m[48062228] \u001b[39m\u001b[92m+ FilePathsBase v0.9.24\u001b[39m\n",
      "  \u001b[90m[f6369f11] \u001b[39m\u001b[92m+ ForwardDiff v1.0.1\u001b[39m\n",
      "  \u001b[90m[60bf3e95] \u001b[39m\u001b[92m+ GLPK v1.2.1\u001b[39m\n",
      "  \u001b[90m[842dd82b] \u001b[39m\u001b[92m+ InlineStrings v1.4.3\u001b[39m\n",
      "  \u001b[90m[0c81fc1b] \u001b[39m\u001b[92m+ InputBuffers v1.0.1\u001b[39m\n",
      "\u001b[33m⌅\u001b[39m \u001b[90m[d1acc4aa] \u001b[39m\u001b[92m+ IntervalArithmetic v0.21.2\u001b[39m\n",
      "  \u001b[90m[41ab1584] \u001b[39m\u001b[92m+ InvertedIndices v1.3.1\u001b[39m\n",
      "  \u001b[90m[82899510] \u001b[39m\u001b[92m+ IteratorInterfaceExtensions v1.0.0\u001b[39m\n",
      "  \u001b[90m[692b3bcd] \u001b[39m\u001b[92m+ JLLWrappers v1.7.0\u001b[39m\n",
      "  \u001b[90m[682c06a0] \u001b[39m\u001b[92m+ JSON v0.21.4\u001b[39m\n",
      "  \u001b[90m[0f8b85d8] \u001b[39m\u001b[92m+ JSON3 v1.14.2\u001b[39m\n",
      "  \u001b[90m[4076af6c] \u001b[39m\u001b[92m+ JuMP v1.25.0\u001b[39m\n",
      "  \u001b[90m[b964fa9f] \u001b[39m\u001b[92m+ LaTeXStrings v1.4.0\u001b[39m\n",
      "  \u001b[90m[b4f0291d] \u001b[39m\u001b[92m+ LazySets v4.0.0\u001b[39m\n",
      "  \u001b[90m[b8f27783] \u001b[39m\u001b[92m+ MathOptInterface v1.40.1\u001b[39m\n",
      "  \u001b[90m[d8a4904e] \u001b[39m\u001b[92m+ MutableArithmetics v1.6.4\u001b[39m\n",
      "  \u001b[90m[77ba4419] \u001b[39m\u001b[92m+ NaNMath v1.1.3\u001b[39m\n",
      "  \u001b[90m[69de0a69] \u001b[39m\u001b[92m+ Parsers v2.8.3\u001b[39m\n",
      "  \u001b[90m[2dfb63ee] \u001b[39m\u001b[92m+ PooledArrays v1.4.3\u001b[39m\n",
      "  \u001b[90m[08abe8d2] \u001b[39m\u001b[92m+ PrettyTables v2.4.0\u001b[39m\n",
      "  \u001b[90m[30b38841] \u001b[39m\u001b[92m+ QuickHeaps v0.2.2\u001b[39m\n",
      "  \u001b[90m[379f33d0] \u001b[39m\u001b[92m+ ReachabilityBase v0.3.4\u001b[39m\n",
      "  \u001b[90m[3cdcf5f2] \u001b[39m\u001b[92m+ RecipesBase v1.3.4\u001b[39m\n",
      "  \u001b[90m[189a3867] \u001b[39m\u001b[92m+ Reexport v1.2.2\u001b[39m\n",
      "  \u001b[90m[ae029012] \u001b[39m\u001b[92m+ Requires v1.3.1\u001b[39m\n",
      "  \u001b[90m[5eaf0fd0] \u001b[39m\u001b[92m+ RoundingEmulator v0.2.1\u001b[39m\n",
      "  \u001b[90m[91c51154] \u001b[39m\u001b[92m+ SentinelArrays v1.4.8\u001b[39m\n",
      "  \u001b[90m[3cc68bcd] \u001b[39m\u001b[92m+ SetRounding v0.2.1\u001b[39m\n",
      "  \u001b[90m[276daf66] \u001b[39m\u001b[92m+ SpecialFunctions v2.5.1\u001b[39m\n",
      "  \u001b[90m[892a3eda] \u001b[39m\u001b[92m+ StringManipulation v0.4.1\u001b[39m\n",
      "  \u001b[90m[856f2bd8] \u001b[39m\u001b[92m+ StructTypes v1.11.0\u001b[39m\n",
      "  \u001b[90m[3783bdb8] \u001b[39m\u001b[92m+ TableTraits v1.0.1\u001b[39m\n",
      "  \u001b[90m[bd369af6] \u001b[39m\u001b[92m+ Tables v1.12.0\u001b[39m\n",
      "  \u001b[90m[3bb67fe8] \u001b[39m\u001b[92m+ TranscodingStreams v0.11.3\u001b[39m\n",
      "  \u001b[90m[c3b1956e] \u001b[39m\u001b[92m+ TypeUtils v1.7.1\u001b[39m\n",
      "  \u001b[90m[ea10d353] \u001b[39m\u001b[92m+ WeakRefStrings v1.4.2\u001b[39m\n",
      "  \u001b[90m[76eceee3] \u001b[39m\u001b[92m+ WorkerUtilities v1.6.1\u001b[39m\n",
      "  \u001b[90m[fdbf4ff8] \u001b[39m\u001b[92m+ XLSX v0.10.4\u001b[39m\n",
      "  \u001b[90m[49080126] \u001b[39m\u001b[92m+ ZipArchives v2.4.1\u001b[39m\n",
      "  \u001b[90m[a5390f91] \u001b[39m\u001b[92m+ ZipFile v0.10.1\u001b[39m\n",
      "  \u001b[90m[6e34b625] \u001b[39m\u001b[92m+ Bzip2_jll v1.0.9+0\u001b[39m\n",
      "  \u001b[90m[4e9b3aee] \u001b[39m\u001b[92m+ CRlibm_jll v1.0.1+0\u001b[39m\n",
      "  \u001b[90m[e8aa6df9] \u001b[39m\u001b[92m+ GLPK_jll v5.0.1+1\u001b[39m\n",
      "  \u001b[90m[94ce4f54] \u001b[39m\u001b[92m+ Libiconv_jll v1.18.0+0\u001b[39m\n",
      "  \u001b[90m[efe28fd5] \u001b[39m\u001b[92m+ OpenSpecFun_jll v0.5.6+0\u001b[39m\n",
      "\u001b[33m⌅\u001b[39m \u001b[90m[02c8fc9c] \u001b[39m\u001b[92m+ XML2_jll v2.13.6+1\u001b[39m\n",
      "  \u001b[90m[9fa8497b] \u001b[39m\u001b[92m+ Future\u001b[39m\n",
      "  \u001b[90m[9abbd945] \u001b[39m\u001b[92m+ Profile\u001b[39m\n",
      "  \u001b[90m[8dfed614] \u001b[39m\u001b[92m+ Test\u001b[39m\n",
      "  \u001b[90m[781609d7] \u001b[39m\u001b[92m+ GMP_jll v6.2.1+6\u001b[39m\n",
      "  \u001b[90m[05823500] \u001b[39m\u001b[92m+ OpenLibm_jll v0.8.1+2\u001b[39m\n",
      "\u001b[36m\u001b[1m        Info\u001b[22m\u001b[39m Packages marked with \u001b[33m⌅\u001b[39m have new versions available but compatibility constraints restrict them from upgrading. To see why use `status --outdated -m`\n",
      "\u001b[32m\u001b[1mPrecompiling\u001b[22m\u001b[39m DiscreteGraphAlgorithms\n",
      "\u001b[32m  ✓ \u001b[39m\u001b[90mTypeUtils\u001b[39m\n",
      "\u001b[32m  ✓ \u001b[39m\u001b[90mForwardDiff → ForwardDiffStaticArraysExt\u001b[39m\n",
      "\u001b[32m  ✓ \u001b[39m\u001b[90mQuickHeaps\u001b[39m\n",
      "\u001b[32m  ✓ \u001b[39m\u001b[90mMathOptInterface\u001b[39m\n",
      "\u001b[32m  ✓ \u001b[39m\u001b[90mGLPK\u001b[39m\n",
      "\u001b[32m  ✓ \u001b[39m\u001b[90mJuMP\u001b[39m\n",
      "\u001b[32m  ✓ \u001b[39m\u001b[90mLazySets\u001b[39m\n",
      "\u001b[32m  ✓ \u001b[39mDiscreteGraphAlgorithms\n",
      "  8 dependencies successfully precompiled in 31 seconds. 102 already precompiled.\n",
      "\u001b[36m\u001b[1m[ \u001b[22m\u001b[39m\u001b[36m\u001b[1mInfo: \u001b[22m\u001b[39mPrecompiling DiscreteGraphAlgorithms [07f0ec66-74e6-47f7-aa14-4ab50129b767]\n"
     ]
    }
   ],
   "source": [
    "# USE THESE PACKAGES FOR NOW\n",
    "\n",
    "# load IterativeHeaps\n",
    "using Pkg\n",
    "Pkg.develop(url = \"/Users/usuario/git/IterativeHeaps.jl\")\n",
    "using IterativeHeaps\n",
    "\n",
    "# load GraphDistanceAlgorithms\n",
    "Pkg.develop(path = \"https://github.com/jcsyme/GraphDistanceAlgorithms.jl\")\n",
    "using GraphDistanceAlgorithms\n",
    "\n",
    "# get the graph fragments package\n",
    "Pkg.develop(path = \"https://github.com/jcsyme/GraphFragments.jl/\")\n",
    "using GraphFragments\n",
    "\n",
    "# get the DiscreteGraphAlgorithms package\n",
    "Pkg.develop(path = \"https://github.com/jcsyme/DiscreteGraphAlgorithms.jl/\")\n",
    "using DiscreteGraphAlgorithms"
   ]
  },
  {
   "cell_type": "code",
   "execution_count": 191,
   "id": "dd1b5233-5c47-406c-afac-ee4d4d7a688d",
   "metadata": {},
   "outputs": [
    {
     "name": "stderr",
     "output_type": "stream",
     "text": [
      "\u001b[36m\u001b[1m[ \u001b[22m\u001b[39m\u001b[36m\u001b[1mInfo: \u001b[22m\u001b[39mTemprary import structure... Build CommunityDetectionAlgorithms module\n"
     ]
    },
    {
     "data": {
      "text/plain": [
       "singleton_partition"
      ]
     },
     "execution_count": 191,
     "metadata": {},
     "output_type": "execute_result"
    }
   ],
   "source": [
    "include(joinpath(\"src\", \"CommunityDetectionAlgorithms.jl\"))"
   ]
  },
  {
   "cell_type": "code",
   "execution_count": 5,
   "id": "8d228254-a6ad-4d7c-b215-49e367f156d9",
   "metadata": {},
   "outputs": [],
   "source": [
    "# use this as a test\n",
    "fp_egl = \"/Users/usuario/git/DiscreteGraphAlgorithms.jl/ref/krebs.egl\"\n",
    "graph_wrapper = read_egl(fp_egl);\n",
    "#graph = copy(graph_wrapper_dprk_undir.graph)\n",
    "\n",
    "\n",
    "j, i, w = findnz(graph_wrapper.A)\n",
    "w = Random.rand(length(w))\n",
    "graph = SimpleWeightedGraph(j, i, w, );\n",
    "\n",
    "\n",
    "\n"
   ]
  },
  {
   "cell_type": "code",
   "execution_count": null,
   "id": "890aa6f5-1469-4c93-bc0a-255b083b1328",
   "metadata": {},
   "outputs": [],
   "source": []
  },
  {
   "cell_type": "code",
   "execution_count": null,
   "id": "5a510310-7986-424e-8f7e-39f2c5641699",
   "metadata": {},
   "outputs": [],
   "source": []
  },
  {
   "cell_type": "code",
   "execution_count": null,
   "id": "c255cd9d-5377-472c-b7f9-0920787c1d66",
   "metadata": {},
   "outputs": [],
   "source": []
  },
  {
   "cell_type": "code",
   "execution_count": 176,
   "id": "22021215-8cae-4f67-a4e5-702ba60b630e",
   "metadata": {},
   "outputs": [
    {
     "data": {
      "text/plain": [
       "62-element Vector{Int64}:\n",
       " 0\n",
       " 0\n",
       " 0\n",
       " 0\n",
       " 0\n",
       " 0\n",
       " 0\n",
       " 0\n",
       " 0\n",
       " 0\n",
       " 0\n",
       " 0\n",
       " 0\n",
       " ⋮\n",
       " 0\n",
       " 0\n",
       " 0\n",
       " 0\n",
       " 0\n",
       " 0\n",
       " 0\n",
       " 0\n",
       " 0\n",
       " 0\n",
       " 0\n",
       " 0"
      ]
     },
     "execution_count": 176,
     "metadata": {},
     "output_type": "execute_result"
    }
   ],
   "source": [
    "# vertex_weight = Random.rand(nv(graph)) )\n",
    "partition.partition_aux"
   ]
  },
  {
   "cell_type": "code",
   "execution_count": 179,
   "id": "814abfa3-3034-4c92-b77e-50986b7ba25c",
   "metadata": {},
   "outputs": [
    {
     "data": {
      "text/plain": [
       "10-element Vector{Int64}:\n",
       "  1\n",
       "  2\n",
       "  8\n",
       "  4\n",
       "  5\n",
       "  6\n",
       "  7\n",
       "  3\n",
       "  9\n",
       " 10"
      ]
     },
     "execution_count": 179,
     "metadata": {},
     "output_type": "execute_result"
    }
   ],
   "source": [
    "x = collect(1:10)\n",
    "\n",
    "x[3], x[8] = x[8], x[3]\n",
    "\n",
    "x"
   ]
  },
  {
   "cell_type": "code",
   "execution_count": 247,
   "id": "acdd2dbb-b9a5-492e-8974-b2249da45b5f",
   "metadata": {},
   "outputs": [
    {
     "name": "stdout",
     "output_type": "stream",
     "text": [
      "  0.000026 seconds (9 allocations: 7.500 KiB)\n",
      "11"
     ]
    },
    {
     "data": {
      "text/plain": [
       "-31.23927309861461"
      ]
     },
     "execution_count": 247,
     "metadata": {},
     "output_type": "execute_result"
    }
   ],
   "source": [
    "#include(joinpath(\"src\", \"Leiden.jl\"))\n",
    "\n",
    "\n",
    "k = StatsBase.sample(10:20)\n",
    "\n",
    "vec_membership = StatsBase.sample(1:k, nv(graph));\n",
    "vec_membership_aux = zeros(Int64, nv(graph), );\n",
    "reindex_membership!(vec_membership; membership_aux = vec_membership_aux, )\n",
    "\n",
    "\n",
    "partition = GraphPartition1(graph; membership = vec_membership, )\n",
    "\n",
    "\n",
    "\n",
    "\n",
    "\n",
    "vec_comm_size = zeros(Float64, size(vec_membership));\n",
    "vec_deg = degree(graph)\n",
    "vec_degrees_inv = 1 ./ vec_deg\n",
    "gamma = 0.1\n",
    "\n",
    "@time hamiltonian = hamiltonian_constant_potts_unsafe!(\n",
    "    vec_membership,\n",
    "    vec_comm_size,\n",
    "    vec_degrees_inv,\n",
    "    gamma,\n",
    "    graph,\n",
    ")\n",
    "\n",
    "print(k)\n",
    "sum(vec_comm_size[1:k])\n",
    "hamiltonian\n"
   ]
  },
  {
   "cell_type": "code",
   "execution_count": 248,
   "id": "58a0753e-8409-4754-a1e6-2921ea16a34d",
   "metadata": {},
   "outputs": [
    {
     "data": {
      "text/plain": [
       "11"
      ]
     },
     "execution_count": 248,
     "metadata": {},
     "output_type": "execute_result"
    }
   ],
   "source": [
    "k"
   ]
  },
  {
   "cell_type": "code",
   "execution_count": null,
   "id": "b6b51714-41e6-4d18-b926-bb5884cd1baa",
   "metadata": {},
   "outputs": [],
   "source": []
  },
  {
   "cell_type": "code",
   "execution_count": null,
   "id": "6b58ea36-721e-4145-b1af-5fd6f2fb208b",
   "metadata": {},
   "outputs": [],
   "source": []
  },
  {
   "cell_type": "code",
   "execution_count": null,
   "id": "2ece89ad-b2f5-4362-901b-d60c8a79c0d0",
   "metadata": {},
   "outputs": [],
   "source": []
  },
  {
   "cell_type": "code",
   "execution_count": null,
   "id": "cb8db067-bb7e-4dbf-89a0-f66444bddedf",
   "metadata": {},
   "outputs": [],
   "source": []
  },
  {
   "cell_type": "code",
   "execution_count": null,
   "id": "da03c5a9-88f4-4d2a-afbb-5aa914b0af1b",
   "metadata": {},
   "outputs": [],
   "source": []
  },
  {
   "cell_type": "code",
   "execution_count": 264,
   "id": "cc0bf1f8-b2b3-4596-81c8-3837eaeac126",
   "metadata": {},
   "outputs": [
    {
     "data": {
      "text/plain": [
       "(:element_size, :element_weight, :graph_shape, :max_vertex_size, :membership, :membership_aux, :partition_aux, :partition_aux_fl, :partition_size, :vertex_weight)"
      ]
     },
     "execution_count": 264,
     "metadata": {},
     "output_type": "execute_result"
    }
   ],
   "source": [
    "propertynames(partition)"
   ]
  },
  {
   "cell_type": "code",
   "execution_count": 262,
   "id": "1cdd6493-78af-40ee-acb0-2ec9b24725b5",
   "metadata": {},
   "outputs": [],
   "source": [
    "graph\n",
    "incidence = get_incidence_list(graph);\n"
   ]
  },
  {
   "cell_type": "code",
   "execution_count": null,
   "id": "fa83a002-7f32-41b2-8e9d-4ca2cd193281",
   "metadata": {
    "scrolled": true
   },
   "outputs": [],
   "source": []
  },
  {
   "cell_type": "code",
   "execution_count": 223,
   "id": "b42d7eaa-ec4e-4612-9e98-2e5e8e393571",
   "metadata": {},
   "outputs": [
    {
     "name": "stderr",
     "output_type": "stream",
     "text": [
      "\u001b[36m\u001b[1m[ \u001b[22m\u001b[39m\u001b[36m\u001b[1mInfo: \u001b[22m\u001b[39mTemprary import structure... Build CommunityDetectionAlgorithms module\n"
     ]
    },
    {
     "data": {
      "text/plain": [
       "singleton_partition"
      ]
     },
     "execution_count": 223,
     "metadata": {},
     "output_type": "execute_result"
    }
   ],
   "source": [
    "include(joinpath(\"src\", \"CommunityDetectionAlgorithms.jl\"))"
   ]
  },
  {
   "cell_type": "code",
   "execution_count": null,
   "id": "ee12fbc0-2c5d-4659-93af-944de5a4f8f3",
   "metadata": {},
   "outputs": [],
   "source": []
  },
  {
   "cell_type": "code",
   "execution_count": 246,
   "id": "2f2344ff-cd12-4196-9c9b-e232172c0854",
   "metadata": {},
   "outputs": [
    {
     "data": {
      "text/plain": [
       "(:element_size, :element_weight, :graph_shape, :max_vertex_size, :membership, :membership_aux, :partition_aux, :partition_aux_fl, :partition_size, :vertex_weight)"
      ]
     },
     "execution_count": 246,
     "metadata": {},
     "output_type": "execute_result"
    }
   ],
   "source": [
    "propertynames(partition)"
   ]
  },
  {
   "cell_type": "code",
   "execution_count": null,
   "id": "28c058a0-14a9-4187-85d2-5c448aa40927",
   "metadata": {},
   "outputs": [],
   "source": []
  },
  {
   "cell_type": "code",
   "execution_count": null,
   "id": "7331bf8c-1cc5-4c6a-8a03-44d2a49619c9",
   "metadata": {},
   "outputs": [],
   "source": []
  },
  {
   "cell_type": "code",
   "execution_count": 77,
   "id": "57298422-26c5-4303-9f5e-d18493a98c39",
   "metadata": {},
   "outputs": [
    {
     "data": {
      "text/plain": [
       "true"
      ]
     },
     "execution_count": 77,
     "metadata": {},
     "output_type": "execute_result"
    }
   ],
   "source": [
    "VECTOR(edge_weights_per_cluster)[current_cluster] - VECTOR(*node_weights)[v] * VECTOR(cluster_weights)[current_cluster] * resolution_parameter;\n",
    "\n",
    "\n",
    "\n"
   ]
  },
  {
   "cell_type": "code",
   "execution_count": 78,
   "id": "9cfa5957-720f-4e57-9fc9-a24ca76969fe",
   "metadata": {},
   "outputs": [
    {
     "data": {
      "text/plain": [
       "(:element_size, :element_weight, :graph_shape, :max_vertex_size, :membership, :membership_aux, :partition_aux, :partition_size, :vertex_weight)"
      ]
     },
     "execution_count": 78,
     "metadata": {},
     "output_type": "execute_result"
    }
   ],
   "source": [
    "propertynames(partition)"
   ]
  },
  {
   "cell_type": "code",
   "execution_count": 15,
   "id": "6d667e28-ef0d-4d6f-b441-74bdd7aa458e",
   "metadata": {},
   "outputs": [
    {
     "name": "stderr",
     "output_type": "stream",
     "text": [
      "\u001b[32m\u001b[1m    Updating\u001b[22m\u001b[39m `~/git/CommunityDetectionAlgorithms.jl/Project.toml`\n",
      "  \u001b[90m[e285971d] \u001b[39m\u001b[91m- IterativeHeaps v0.1.0 `~/git/IterativeHeaps.jl`\u001b[39m\n",
      "\u001b[32m\u001b[1m  No Changes\u001b[22m\u001b[39m to `~/git/CommunityDetectionAlgorithms.jl/Manifest.toml`\n"
     ]
    }
   ],
   "source": [
    "Pkg.rm(\"IterativeHeaps\")"
   ]
  },
  {
   "cell_type": "code",
   "execution_count": null,
   "id": "678626bf-4825-4796-99c3-9a5dc5daaec3",
   "metadata": {},
   "outputs": [],
   "source": []
  },
  {
   "cell_type": "code",
   "execution_count": 37,
   "id": "893f592c-e663-490c-9f33-3c9b9d4d5aeb",
   "metadata": {},
   "outputs": [
    {
     "data": {
      "text/plain": [
       "fill_and_randomize_queue! (generic function with 2 methods)"
      ]
     },
     "execution_count": 37,
     "metadata": {},
     "output_type": "execute_result"
    }
   ],
   "source": [
    "import IterativeHeaps: fill_and_randomize_queue!\n",
    "function fill_and_randomize_queue!(\n",
    "    queue::SimpleQueue{T},\n",
    "    n::Int64,\n",
    ") where {T}\n",
    "    reset!(queue)\n",
    "    heap_push!(\n",
    "        queue,\n",
    "        shuffle(1:max(min(queue.max_size, n), 0))\n",
    "    )\n",
    "    \n",
    "    return nothing\n",
    "end\n",
    "\n",
    "function fill_and_randomize_queue!(\n",
    "    queue::SimpleQueue{T},\n",
    ") where {T}\n",
    "    fill_and_randomize_queue!(\n",
    "        queue,\n",
    "        queue.max_size,\n",
    "    )\n",
    "    \n",
    "    return nothing\n",
    "end\n",
    "\n",
    "\n"
   ]
  },
  {
   "cell_type": "code",
   "execution_count": 40,
   "id": "e5b95066-2c83-4c6d-9ba4-5e5c44bd4387",
   "metadata": {},
   "outputs": [
    {
     "ename": "LoadError",
     "evalue": "MethodError: no method matching reset!(::SimpleQueue{Int64})",
     "output_type": "error",
     "traceback": [
      "MethodError: no method matching reset!(::SimpleQueue{Int64})",
      "",
      "Stacktrace:",
      " [1] fill_and_randomize_queue!(queue::SimpleQueue{Int64}, n::Int64)",
      "   @ Main ./In[37]:6",
      " [2] fill_and_randomize_queue!(queue::SimpleQueue{Int64})",
      "   @ Main ./In[37]:18",
      " [3] top-level scope",
      "   @ In[40]:1"
     ]
    }
   ],
   "source": [
    "fill_and_randomize_queue!(queue_unstable, )\n"
   ]
  },
  {
   "cell_type": "code",
   "execution_count": 764,
   "id": "fa1b4232-ae29-4449-9540-829827eb0dfc",
   "metadata": {},
   "outputs": [
    {
     "data": {
      "text/plain": [
       "stack_pop! (generic function with 1 method)"
      ]
     },
     "execution_count": 764,
     "metadata": {},
     "output_type": "execute_result"
    }
   ],
   "source": []
  },
  {
   "cell_type": "code",
   "execution_count": 765,
   "id": "b6fbf702-b9cb-4442-89ad-6fcb0e556955",
   "metadata": {},
   "outputs": [
    {
     "data": {
      "text/plain": [
       "FixedStack1{Int64}(0, [0, 0, 0, 0, 0], 5, [0])"
      ]
     },
     "execution_count": 765,
     "metadata": {},
     "output_type": "execute_result"
    }
   ],
   "source": [
    "stack_test = FixedStack1{Int64}(5)"
   ]
  },
  {
   "cell_type": "code",
   "execution_count": null,
   "id": "6f1b5412-8eb6-4f0c-b524-4865ebb6da44",
   "metadata": {},
   "outputs": [],
   "source": [
    "\n",
    "\n",
    "\n",
    "\n"
   ]
  },
  {
   "cell_type": "code",
   "execution_count": null,
   "id": "16a2bdea-47dd-46c7-b5c5-f225c60c5f6b",
   "metadata": {},
   "outputs": [],
   "source": []
  },
  {
   "cell_type": "code",
   "execution_count": null,
   "id": "70a72f73-d7bc-48fc-bc6e-441bf8cc5183",
   "metadata": {},
   "outputs": [],
   "source": []
  },
  {
   "cell_type": "code",
   "execution_count": 744,
   "id": "1aa610fa-c32d-4ba3-92a5-f6006709c12a",
   "metadata": {},
   "outputs": [
    {
     "name": "stderr",
     "output_type": "stream",
     "text": [
      "\u001b[36m\u001b[1m[ \u001b[22m\u001b[39m\u001b[36m\u001b[1mInfo: \u001b[22m\u001b[39mStack is full with 5 elements. Cannot push.\n",
      "\u001b[36m\u001b[1m[ \u001b[22m\u001b[39m\u001b[36m\u001b[1mInfo: \u001b[22m\u001b[39mStack is full with 5 elements. Cannot push.\n",
      "\u001b[36m\u001b[1m[ \u001b[22m\u001b[39m\u001b[36m\u001b[1mInfo: \u001b[22m\u001b[39mStack is full with 5 elements. Cannot push.\n"
     ]
    }
   ],
   "source": [
    "for v in vec\n",
    "    stack_push!(stack_test, v)\n",
    "end"
   ]
  },
  {
   "cell_type": "code",
   "execution_count": 756,
   "id": "78bd55bd-ec29-4f78-86cb-5c5c1b90c374",
   "metadata": {},
   "outputs": [],
   "source": [
    "stack_pop!(stack_test)"
   ]
  },
  {
   "cell_type": "code",
   "execution_count": 763,
   "id": "5fcbdcb1-5a72-4409-a0bd-d1286755b829",
   "metadata": {},
   "outputs": [
    {
     "data": {
      "text/plain": [
       "FixedStack1{Int64}(0, [0, 0, 0, 0, 0], 5, [0])"
      ]
     },
     "execution_count": 763,
     "metadata": {},
     "output_type": "execute_result"
    }
   ],
   "source": [
    "stack_test"
   ]
  },
  {
   "cell_type": "code",
   "execution_count": null,
   "id": "363b67aa-dfec-445c-8fe5-66564db3d7e3",
   "metadata": {
    "tags": []
   },
   "outputs": [],
   "source": []
  },
  {
   "cell_type": "code",
   "execution_count": null,
   "id": "3c1d197a-a9c3-4dbc-b8d2-749e832b0203",
   "metadata": {},
   "outputs": [],
   "source": []
  },
  {
   "cell_type": "code",
   "execution_count": null,
   "id": "707eaab6-308d-4b0b-b098-a7d58e25a90a",
   "metadata": {},
   "outputs": [],
   "source": []
  },
  {
   "cell_type": "markdown",
   "id": "053f75c7-c24e-444c-b839-8104fde5e9ad",
   "metadata": {},
   "source": [
    "##  Start building move nodes routine"
   ]
  },
  {
   "cell_type": "code",
   "execution_count": 104,
   "id": "23d4a716-75cc-47c0-8d12-4166b003f721",
   "metadata": {},
   "outputs": [],
   "source": [
    "\n",
    "\"\"\"\n",
    "Create a structure to store some shared vectors that are used \n",
    "    repeatedly throughout the calculation of \n",
    "\n",
    "\"\"\"\n",
    "struct MoveNodesVectorBundle1\n",
    "    n::Int64\n",
    "    membership::Vector{Int64}\n",
    "    neighbors::Vector{Int64}\n",
    "    neighbors_added::Vector{Bool}\n",
    "    size::Vector{Int64}\n",
    "    weights::Union{Vector{Float64}, Vector{Int64}}\n",
    "    vec_verts_stable_q::Vector{Bool}\n",
    "    vec_verts_unstable::Vector{Int64}\n",
    "    \n",
    "    function MoveNodesVectorBundle1(\n",
    "        graph::Union{AbstractGraph, SimpleWeightedGraph};\n",
    "        membership::VecOrNoth{Int64} = nothing,\n",
    "        neighbors::VecOrNoth{Int64} = nothing,\n",
    "        neighbors_added::VecOrNoth{Bool} = nothing,\n",
    "        size::VecOrNoth{Int64} = nothing,\n",
    "        weights::Union{VecOrNoth{Float64}, VecOrNoth{Int64}} = nothing,\n",
    "        vec_verts_stable_q::VecOrNoth{Bool} = nothing,\n",
    "        vec_verts_unstable::VecOrNoth{Int64} = nothing, # this is the queue\n",
    "    )\n",
    "        # initialize sizing parameter\n",
    "        n = nv(graph)\n",
    "    \n",
    "        \n",
    "        ##  INITIALIZE VECTORS\n",
    "        \n",
    "        # community membership; \n",
    "        membership = initialize_vector(\n",
    "            membership, \n",
    "            n,\n",
    "            Int64;\n",
    "            fill_func = nothing,\n",
    "        )\n",
    "\n",
    "        # additional storage vectors\n",
    "        neighbors = initialize_vector(neighbors, n, Int64)\n",
    "        neighbors_added = initialize_vector(neighbors_added, n, Bool)\n",
    "        size = initialize_vector(size, n, Int64)\n",
    "        weights = initialize_vector(weights, n, eltype(Graphs.weights(graph)))\n",
    "        vec_verts_stable_q = initialize_vector(vec_verts_stable_q, n, Bool)\n",
    "        vec_verts_unstable = initialize_vector(vec_verts_unstable, n, Int64)\n",
    "        \n",
    "        \n",
    "        # update the queue as 1:n \n",
    "        vec_verts_unstable .= 1:n\n",
    "        \n",
    "        # return the output\n",
    "        return new(\n",
    "            n,\n",
    "            neighbors,\n",
    "            neighbors_added,\n",
    "            size,\n",
    "            weights,\n",
    "            vec_verts_stable_q,\n",
    "            vec_verts_unstable, \n",
    "        )\n",
    "        \n",
    "    end\n",
    "end\n",
    "\n",
    "\n",
    "\n",
    "\"\"\"\n",
    "Prepare vectors for use in the MoveNodes function\n",
    "\n",
    "# Constructs\n",
    "\n",
    "```\n",
    "prepare_move_nodes_vectors!(\n",
    "    bundle::MoveNodesVectorBundle1;\n",
    ")\n",
    "\n",
    "\n",
    "##  Function Arguments\n",
    "\n",
    "- `bundle`: MoveNodesVectorBundle1 to update before calculating differences\n",
    "    and choosing next community\n",
    "```\n",
    "\n",
    "\n",
    "\"\"\"\n",
    "function prepare_move_nodes_vectors!(\n",
    "    bundle::MoveNodesVectorBundle1;\n",
    ")\n",
    "    # initialize vector fills\n",
    "    fill!(bundle.vec_comm_neighbors, 0) # \n",
    "    fill!(bundle.vec_comm_neighbors_added, 0) # clear, all are false\n",
    "    fill!(bundle.vec_comm_size, 0) # all comms set to 0\n",
    "    fill!(bundle.vec_comm_weights, 0)\n",
    "    fill!(bundle.vec_verts_stable_q, 0)\n",
    "    \n",
    "    # update and shuffle the queue index\n",
    "    bundle.vec_verts_unstable .= 1:bundle.n\n",
    "    StatsBase.shuffle!(bundle.vec_verts_unstable)\n",
    "end\n",
    "\n",
    "\n",
    "\n",
    "bundle = MoveNodesVectorBundle1(graph)\n",
    "prepare_move_nodes_vectors!(bundle);\n",
    "\n",
    "\n",
    "\n",
    "\n",
    "function move_nodes!(\n",
    "    partition::AbstractPartition,\n",
    ")\n",
    "\n"
   ]
  },
  {
   "cell_type": "code",
   "execution_count": 52,
   "id": "b85cb00c-e20a-4467-924e-154ea4e4dc16",
   "metadata": {},
   "outputs": [
    {
     "name": "stdout",
     "output_type": "stream",
     "text": [
      "search: \u001b[0m\u001b[1ms\u001b[22m\u001b[0m\u001b[1mh\u001b[22m\u001b[0m\u001b[1mu\u001b[22m\u001b[0m\u001b[1mf\u001b[22m\u001b[0m\u001b[1mf\u001b[22m\u001b[0m\u001b[1ml\u001b[22m\u001b[0m\u001b[1me\u001b[22m \u001b[0m\u001b[1ms\u001b[22m\u001b[0m\u001b[1mh\u001b[22m\u001b[0m\u001b[1mu\u001b[22m\u001b[0m\u001b[1mf\u001b[22m\u001b[0m\u001b[1mf\u001b[22m\u001b[0m\u001b[1ml\u001b[22m\u001b[0m\u001b[1me\u001b[22m!\n",
      "\n"
     ]
    },
    {
     "data": {
      "text/latex": [
       "\\begin{verbatim}\n",
       "shuffle([rng=default_rng(),] v::AbstractArray)\n",
       "\\end{verbatim}\n",
       "Return a randomly permuted copy of \\texttt{v}. The optional \\texttt{rng} argument specifies a random number generator (see \\href{@ref}{Random Numbers}). To permute \\texttt{v} in-place, see \\href{@ref}{\\texttt{shuffle!}}. To obtain randomly permuted indices, see \\href{@ref}{\\texttt{randperm}}.\n",
       "\n",
       "\\section{Examples}\n",
       "\\begin{verbatim}\n",
       "julia> rng = MersenneTwister(1234);\n",
       "\n",
       "julia> shuffle(rng, Vector(1:10))\n",
       "10-element Vector{Int64}:\n",
       "  6\n",
       "  1\n",
       " 10\n",
       "  2\n",
       "  3\n",
       "  9\n",
       "  5\n",
       "  7\n",
       "  4\n",
       "  8\n",
       "\\end{verbatim}\n",
       "\\rule{\\textwidth}{1pt}\n",
       "\\begin{verbatim}\n",
       "shuffle([rng=GLOBAL_RNG,] df::AbstractDataFrame)\n",
       "\\end{verbatim}\n",
       "Return a copy of \\texttt{df} with randomly permuted rows. The optional \\texttt{rng} argument specifies a random number generator.\n",
       "\n",
       "Metadata: this function preserves table-level and column-level \\texttt{:note}-style metadata.\n",
       "\n",
       "\\section{Examples}\n",
       "\\begin{verbatim}\n",
       "julia> using Random\n",
       "\n",
       "julia> rng = MersenneTwister(1234);\n",
       "\n",
       "julia> shuffle(rng, DataFrame(a=1:5, b=1:5))\n",
       "5×2 DataFrame\n",
       " Row │ a      b\n",
       "     │ Int64  Int64\n",
       "─────┼──────────────\n",
       "   1 │     2      2\n",
       "   2 │     1      1\n",
       "   3 │     4      4\n",
       "   4 │     3      3\n",
       "   5 │     5      5\n",
       "\\end{verbatim}\n"
      ],
      "text/markdown": [
       "```\n",
       "shuffle([rng=default_rng(),] v::AbstractArray)\n",
       "```\n",
       "\n",
       "Return a randomly permuted copy of `v`. The optional `rng` argument specifies a random number generator (see [Random Numbers](@ref)). To permute `v` in-place, see [`shuffle!`](@ref). To obtain randomly permuted indices, see [`randperm`](@ref).\n",
       "\n",
       "# Examples\n",
       "\n",
       "```jldoctest\n",
       "julia> rng = MersenneTwister(1234);\n",
       "\n",
       "julia> shuffle(rng, Vector(1:10))\n",
       "10-element Vector{Int64}:\n",
       "  6\n",
       "  1\n",
       " 10\n",
       "  2\n",
       "  3\n",
       "  9\n",
       "  5\n",
       "  7\n",
       "  4\n",
       "  8\n",
       "```\n",
       "\n",
       "---\n",
       "\n",
       "```\n",
       "shuffle([rng=GLOBAL_RNG,] df::AbstractDataFrame)\n",
       "```\n",
       "\n",
       "Return a copy of `df` with randomly permuted rows. The optional `rng` argument specifies a random number generator.\n",
       "\n",
       "Metadata: this function preserves table-level and column-level `:note`-style metadata.\n",
       "\n",
       "# Examples\n",
       "\n",
       "```jldoctest\n",
       "julia> using Random\n",
       "\n",
       "julia> rng = MersenneTwister(1234);\n",
       "\n",
       "julia> shuffle(rng, DataFrame(a=1:5, b=1:5))\n",
       "5×2 DataFrame\n",
       " Row │ a      b\n",
       "     │ Int64  Int64\n",
       "─────┼──────────────\n",
       "   1 │     2      2\n",
       "   2 │     1      1\n",
       "   3 │     4      4\n",
       "   4 │     3      3\n",
       "   5 │     5      5\n",
       "```\n"
      ],
      "text/plain": [
       "\u001b[36m  shuffle([rng=default_rng(),] v::AbstractArray)\u001b[39m\n",
       "\n",
       "  Return a randomly permuted copy of \u001b[36mv\u001b[39m. The optional \u001b[36mrng\u001b[39m argument specifies a\n",
       "  random number generator (see Random Numbers). To permute \u001b[36mv\u001b[39m in-place, see\n",
       "  \u001b[36mshuffle!\u001b[39m. To obtain randomly permuted indices, see \u001b[36mrandperm\u001b[39m.\n",
       "\n",
       "\u001b[1m  Examples\u001b[22m\n",
       "\u001b[1m  ≡≡≡≡≡≡≡≡\u001b[22m\n",
       "\n",
       "\u001b[36m  julia> rng = MersenneTwister(1234);\u001b[39m\n",
       "\u001b[36m  \u001b[39m\n",
       "\u001b[36m  julia> shuffle(rng, Vector(1:10))\u001b[39m\n",
       "\u001b[36m  10-element Vector{Int64}:\u001b[39m\n",
       "\u001b[36m    6\u001b[39m\n",
       "\u001b[36m    1\u001b[39m\n",
       "\u001b[36m   10\u001b[39m\n",
       "\u001b[36m    2\u001b[39m\n",
       "\u001b[36m    3\u001b[39m\n",
       "\u001b[36m    9\u001b[39m\n",
       "\u001b[36m    5\u001b[39m\n",
       "\u001b[36m    7\u001b[39m\n",
       "\u001b[36m    4\u001b[39m\n",
       "\u001b[36m    8\u001b[39m\n",
       "\n",
       "  ────────────────────────────────────────────────────────────────────────────\n",
       "\n",
       "\u001b[36m  shuffle([rng=GLOBAL_RNG,] df::AbstractDataFrame)\u001b[39m\n",
       "\n",
       "  Return a copy of \u001b[36mdf\u001b[39m with randomly permuted rows. The optional \u001b[36mrng\u001b[39m argument\n",
       "  specifies a random number generator.\n",
       "\n",
       "  Metadata: this function preserves table-level and column-level \u001b[36m:note\u001b[39m-style\n",
       "  metadata.\n",
       "\n",
       "\u001b[1m  Examples\u001b[22m\n",
       "\u001b[1m  ≡≡≡≡≡≡≡≡\u001b[22m\n",
       "\n",
       "\u001b[36m  julia> using Random\u001b[39m\n",
       "\u001b[36m  \u001b[39m\n",
       "\u001b[36m  julia> rng = MersenneTwister(1234);\u001b[39m\n",
       "\u001b[36m  \u001b[39m\n",
       "\u001b[36m  julia> shuffle(rng, DataFrame(a=1:5, b=1:5))\u001b[39m\n",
       "\u001b[36m  5×2 DataFrame\u001b[39m\n",
       "\u001b[36m   Row │ a      b\u001b[39m\n",
       "\u001b[36m       │ Int64  Int64\u001b[39m\n",
       "\u001b[36m  ─────┼──────────────\u001b[39m\n",
       "\u001b[36m     1 │     2      2\u001b[39m\n",
       "\u001b[36m     2 │     1      1\u001b[39m\n",
       "\u001b[36m     3 │     4      4\u001b[39m\n",
       "\u001b[36m     4 │     3      3\u001b[39m\n",
       "\u001b[36m     5 │     5      5\u001b[39m"
      ]
     },
     "execution_count": 52,
     "metadata": {},
     "output_type": "execute_result"
    }
   ],
   "source": [
    "?shuffle"
   ]
  },
  {
   "cell_type": "code",
   "execution_count": null,
   "id": "8b1009c2-0a46-4319-90a8-b18f88f1a3d5",
   "metadata": {},
   "outputs": [],
   "source": []
  },
  {
   "cell_type": "code",
   "execution_count": 386,
   "id": "663ab8c2-7d39-48a9-8a30-93aeda67d14c",
   "metadata": {},
   "outputs": [
    {
     "data": {
      "text/plain": [
       "61"
      ]
     },
     "execution_count": 386,
     "metadata": {},
     "output_type": "execute_result"
    }
   ],
   "source": [
    "edge = 1\n",
    "for edge2 in edges(graph)\n",
    "    edge = edge2\n",
    "end\n",
    "propertynames(edge)\n",
    "edge.src"
   ]
  },
  {
   "cell_type": "code",
   "execution_count": 64,
   "id": "cd22e28e-f8fa-457d-bf48-b180bac4537c",
   "metadata": {},
   "outputs": [
    {
     "data": {
      "text/plain": [
       "SimpleQueue2{Int64}([63, 64, 34, 51, 11, 33, 37, 98, 87, 67  …  57, 117, 75, 53, 76, 15, 88, 99, 96, 108], [119], 119, 0)"
      ]
     },
     "execution_count": 64,
     "metadata": {},
     "output_type": "execute_result"
    }
   ],
   "source": [
    "queue = SimpleQueue2{Int64}(\n",
    "    119;\n",
    "    force_unsafe_index_init = true,\n",
    "    index = StatsBase.shuffle(collect(1:119)),\n",
    ")"
   ]
  },
  {
   "cell_type": "code",
   "execution_count": 122,
   "id": "28189657-5e01-4ae9-b813-f2c6bdb97a4f",
   "metadata": {},
   "outputs": [
    {
     "data": {
      "text/plain": [
       "15-element Vector{Int64}:\n",
       "  1\n",
       "  2\n",
       "  3\n",
       "  4\n",
       "  5\n",
       "  6\n",
       "  7\n",
       "  8\n",
       "  9\n",
       " 10\n",
       " 11\n",
       " 12\n",
       " 13\n",
       " 14\n",
       " 15"
      ]
     },
     "execution_count": 122,
     "metadata": {},
     "output_type": "execute_result"
    }
   ],
   "source": [
    "x = collect(1:15)\n",
    "\n",
    "IterativeHeaps.initialize_vector(x, 15; fill_func = nothing, )\n"
   ]
  },
  {
   "cell_type": "code",
   "execution_count": 101,
   "id": "584ca084-eb87-49e6-9beb-69d79a8a1546",
   "metadata": {},
   "outputs": [
    {
     "name": "stdout",
     "output_type": "stream",
     "text": [
      "  0.000006 seconds\n"
     ]
    }
   ],
   "source": [
    "@time for i in 1:10\n",
    "    x[i] = i\n",
    "end"
   ]
  },
  {
   "cell_type": "code",
   "execution_count": null,
   "id": "315e4108-e6bd-4b7e-939e-d2f187ce91ca",
   "metadata": {},
   "outputs": [
    {
     "data": {
      "text/plain": [
       "10-element Vector{Bool}:\n",
       " 0\n",
       " 0\n",
       " 0\n",
       " 0\n",
       " 0\n",
       " 0\n",
       " 0\n",
       " 0\n",
       " 0\n",
       " 0"
      ]
     },
     "execution_count": 50,
     "metadata": {},
     "output_type": "execute_result"
    }
   ],
   "source": [
    "vv = nothing\n",
    "vv = vv, 10, Bool)\n",
    "\n",
    "\n",
    "\n",
    "initialize_vector("
   ]
  },
  {
   "cell_type": "code",
   "execution_count": null,
   "id": "336a052b-ccf0-48e2-aaf7-00fe71d7c68f",
   "metadata": {},
   "outputs": [],
   "source": [
    "function delta_hamiltonian_constant_potts(\n",
    "    v::Int64,\n",
    "    vec_membership::Vector{Int64};\n",
    "    vec_comm_size::Vector\n",
    ")\n",
    "    \n",
    "    adj = neighbors(graph, vertex)\n",
    "    \n",
    "    # iterate over neighbors to determine which are in the same comm\n",
    "    for u in adj\n",
    "        if vec_membership[u] == vec_membership[v]\n",
    "            \n",
    "        end\n",
    "    end\n",
    "    \n",
    "    \n",
    "end"
   ]
  },
  {
   "cell_type": "code",
   "execution_count": 9,
   "id": "8430ad62-651e-4410-b551-a0973fb268c0",
   "metadata": {},
   "outputs": [
    {
     "data": {
      "text/plain": [
       "Union{Nothing, Vector{T}} where T"
      ]
     },
     "execution_count": 9,
     "metadata": {},
     "output_type": "execute_result"
    }
   ],
   "source": [
    "VecOrNoth{T} = Union{Vector{T}, Nothing}"
   ]
  },
  {
   "cell_type": "code",
   "execution_count": 33,
   "id": "a1cb1620-00ef-4689-9db9-457ac4c03264",
   "metadata": {},
   "outputs": [
    {
     "data": {
      "text/plain": [
       "2-element Vector{Real}:\n",
       " 1\n",
       " 2"
      ]
     },
     "execution_count": 33,
     "metadata": {},
     "output_type": "execute_result"
    }
   ],
   "source": [
    "v .= 1:2"
   ]
  },
  {
   "cell_type": "code",
   "execution_count": 6,
   "id": "ed626997-17af-4e4e-ac1b-33a5fca1c8eb",
   "metadata": {},
   "outputs": [
    {
     "name": "stdout",
     "output_type": "stream",
     "text": [
      "Edge 3 => 7 with weight 1.1744968244044456\n",
      "Edge 10 => 11 with weight 1.0207272120483042\n",
      "Edge 4 => 34 with weight 1.3078873868102796\n",
      "Edge 45 => 46 with weight 1.4506503952728669\n",
      "Edge 45 => 47 with weight 0.5627383554134274\n",
      "Edge 37 => 48 with weight 0.9572967380909618\n",
      "Edge 14 => 63 with weight 0.710919263528397\n",
      "Edge 17 => 66 with weight 0.7863439120316822\n",
      "Edge 22 => 74 with weight 1.3505558013952115\n"
     ]
    }
   ],
   "source": [
    "e2 = nothing\n",
    "\n",
    "for (i, e) in enumerate(edges(graph))\n",
    "    (i < 10) && println(e)\n",
    "    (i == 1) && (e2 = e)\n",
    "end"
   ]
  },
  {
   "cell_type": "code",
   "execution_count": 333,
   "id": "c7d38df1-3638-4478-9f2b-4bdd66641402",
   "metadata": {},
   "outputs": [],
   "source": [
    "membs = StatsBase.sample(1:30, nv(graph));"
   ]
  },
  {
   "cell_type": "code",
   "execution_count": 340,
   "id": "c705deb0-d634-4062-bacc-6d7b235eb734",
   "metadata": {},
   "outputs": [
    {
     "name": "stdout",
     "output_type": "stream",
     "text": [
      "  0.000007 seconds\n"
     ]
    },
    {
     "data": {
      "text/plain": [
       "-15.408025486787299"
      ]
     },
     "execution_count": 340,
     "metadata": {},
     "output_type": "execute_result"
    }
   ],
   "source": [
    "#\n",
    "@time hamiltonian_constant_potts(\n",
    "    membs,\n",
    "    0.0001,\n",
    "    graph,\n",
    ")"
   ]
  },
  {
   "cell_type": "code",
   "execution_count": null,
   "id": "e7c49232-c973-4262-a497-1e32ac8ccb8d",
   "metadata": {},
   "outputs": [],
   "source": []
  },
  {
   "cell_type": "code",
   "execution_count": null,
   "id": "e15cad2d-dade-4d9d-be9b-d206cf4cf914",
   "metadata": {},
   "outputs": [],
   "source": []
  },
  {
   "cell_type": "code",
   "execution_count": null,
   "id": "df1ad4d1-1545-4e7e-80d9-449b099c3eb8",
   "metadata": {},
   "outputs": [],
   "source": []
  },
  {
   "cell_type": "code",
   "execution_count": null,
   "id": "26dad030-87d1-4de8-b793-858ad994e71b",
   "metadata": {},
   "outputs": [],
   "source": [
    "\n",
    "\n",
    "\n",
    "\n",
    "\n",
    "\n",
    "\n",
    "\n"
   ]
  },
  {
   "cell_type": "code",
   "execution_count": null,
   "id": "1bf64264-adc8-44f1-8a2a-dbd4cae62875",
   "metadata": {},
   "outputs": [],
   "source": []
  },
  {
   "cell_type": "code",
   "execution_count": null,
   "id": "1ef9807a-6b80-4794-8e93-986e978a94f7",
   "metadata": {},
   "outputs": [],
   "source": []
  },
  {
   "cell_type": "code",
   "execution_count": null,
   "id": "fa309c66-8c8e-42e6-b1a5-53b1b0c8037f",
   "metadata": {},
   "outputs": [],
   "source": []
  },
  {
   "cell_type": "code",
   "execution_count": null,
   "id": "18acb02e-e915-4f84-8be9-707dcddca0ad",
   "metadata": {},
   "outputs": [],
   "source": []
  },
  {
   "cell_type": "code",
   "execution_count": null,
   "id": "a993e55c-61e2-442b-93aa-e344b9678156",
   "metadata": {},
   "outputs": [],
   "source": [
    "\n"
   ]
  },
  {
   "cell_type": "code",
   "execution_count": 274,
   "id": "8a675e40-3cb7-4265-926d-e5ca20d55ed2",
   "metadata": {},
   "outputs": [
    {
     "data": {
      "text/plain": [
       "12"
      ]
     },
     "execution_count": 274,
     "metadata": {},
     "output_type": "execute_result"
    }
   ],
   "source": [
    "\n",
    "\n",
    "\n",
    "elementsz = zeros(Int64, size(vec_membership))\n",
    "\n",
    "count_partition_sizes!(\n",
    "    elementsz,\n",
    "    vec_membership,\n",
    ")\n",
    "\n",
    "\n",
    "\n",
    "\n"
   ]
  },
  {
   "cell_type": "code",
   "execution_count": 242,
   "id": "9bceef53-1743-47d2-9154-a66bf1761443",
   "metadata": {},
   "outputs": [
    {
     "data": {
      "text/plain": [
       "GraphPartition1([6, 3, 3, 6, 7, 7, 5, 4, 5, 9  …  0, 0, 0, 0, 0, 0, 0, 0, 0, 0], [10, 5, 5, 7, 12, 10, 5, 6, 10, 12  …  12, 1, 12, 9, 2, 9, 3, 11, 10, 6])"
      ]
     },
     "execution_count": 242,
     "metadata": {},
     "output_type": "execute_result"
    }
   ],
   "source": [
    "function aggregate_graph(\n",
    "    graph::GGraph,\n",
    "    paritition::GraphPartition6,\n",
    ")\n",
    "\n",
    "end\n"
   ]
  },
  {
   "cell_type": "code",
   "execution_count": 324,
   "id": "5d94a054-e819-4992-8106-0aa15cb39dc0",
   "metadata": {},
   "outputs": [
    {
     "name": "stdout",
     "output_type": "stream",
     "text": [
      "24\n",
      "24\n",
      "24\n",
      "24\n",
      "24\n",
      "24\n",
      "24\n"
     ]
    }
   ],
   "source": [
    "v = 2\n",
    "\n",
    "dict_visited = Dict()\n",
    "for u in outneighbors(graph, v)\n",
    "    \n",
    "    comm = membs[v]\n",
    "    \n",
    "    \n",
    "    \n",
    "    \n",
    "end"
   ]
  },
  {
   "cell_type": "code",
   "execution_count": 45,
   "id": "7a5ed8b0-b1f8-4226-adbd-067f9c7e422d",
   "metadata": {},
   "outputs": [
    {
     "data": {
      "text/plain": [
       "100-element Vector{Int64}:\n",
       "   1\n",
       "   2\n",
       "   3\n",
       "   4\n",
       "   5\n",
       "   6\n",
       "   7\n",
       "   8\n",
       "   9\n",
       "  10\n",
       "  11\n",
       "  12\n",
       "  13\n",
       "   ⋮\n",
       "  89\n",
       "  90\n",
       "  91\n",
       "  92\n",
       "  93\n",
       "  94\n",
       "  95\n",
       "  96\n",
       "  97\n",
       "  98\n",
       "  99\n",
       " 100"
      ]
     },
     "execution_count": 45,
     "metadata": {},
     "output_type": "execute_result"
    }
   ],
   "source": [
    "x = zeros(Int64, 100)\n",
    "x .= 1:100\n",
    "x"
   ]
  },
  {
   "cell_type": "code",
   "execution_count": 128,
   "id": "8535d5f1-9a9e-4fa0-a45a-1becf4c03bff",
   "metadata": {},
   "outputs": [],
   "source": [
    "#findall(x -> (x == 2), graph_wrapper_dprk_undir.A.colptr)\n",
    "#outneighbors(graph_wrapper_dprk_undir.graph, 1)"
   ]
  },
  {
   "cell_type": "code",
   "execution_count": 327,
   "id": "a67bc4e4-c8f5-426a-af7f-ce7d8b8166dd",
   "metadata": {},
   "outputs": [
    {
     "ename": "LoadError",
     "evalue": "MethodError: no method matching resize!(::Vector{Int64}, ::Int64, ::Int64)\n\n\u001b[0mClosest candidates are:\n\u001b[0m  resize!(::Vector, ::Integer)\n\u001b[0m\u001b[90m   @\u001b[39m \u001b[90mBase\u001b[39m \u001b[90m\u001b[4marray.jl:1312\u001b[24m\u001b[39m\n\u001b[0m  resize!(\u001b[91m::DataFrames.DataFrame\u001b[39m, ::Integer)\n\u001b[0m\u001b[90m   @\u001b[39m \u001b[35mDataFrames\u001b[39m \u001b[90m~/.julia/packages/DataFrames/58MUJ/src/dataframe/\u001b[39m\u001b[90m\u001b[4mdataframe.jl:1073\u001b[24m\u001b[39m\n\u001b[0m  resize!(\u001b[91m::MathOptInterface.Nonlinear.ReverseAD.Coloring.IndexedSet\u001b[39m, ::Integer)\n\u001b[0m\u001b[90m   @\u001b[39m \u001b[33mMathOptInterface\u001b[39m \u001b[90m~/.julia/packages/MathOptInterface/2CULs/src/Nonlinear/ReverseAD/Coloring/\u001b[39m\u001b[90m\u001b[4mColoring.jl:40\u001b[24m\u001b[39m\n\u001b[0m  ...\n",
     "output_type": "error",
     "traceback": [
      "MethodError: no method matching resize!(::Vector{Int64}, ::Int64, ::Int64)\n\n\u001b[0mClosest candidates are:\n\u001b[0m  resize!(::Vector, ::Integer)\n\u001b[0m\u001b[90m   @\u001b[39m \u001b[90mBase\u001b[39m \u001b[90m\u001b[4marray.jl:1312\u001b[24m\u001b[39m\n\u001b[0m  resize!(\u001b[91m::DataFrames.DataFrame\u001b[39m, ::Integer)\n\u001b[0m\u001b[90m   @\u001b[39m \u001b[35mDataFrames\u001b[39m \u001b[90m~/.julia/packages/DataFrames/58MUJ/src/dataframe/\u001b[39m\u001b[90m\u001b[4mdataframe.jl:1073\u001b[24m\u001b[39m\n\u001b[0m  resize!(\u001b[91m::MathOptInterface.Nonlinear.ReverseAD.Coloring.IndexedSet\u001b[39m, ::Integer)\n\u001b[0m\u001b[90m   @\u001b[39m \u001b[33mMathOptInterface\u001b[39m \u001b[90m~/.julia/packages/MathOptInterface/2CULs/src/Nonlinear/ReverseAD/Coloring/\u001b[39m\u001b[90m\u001b[4mColoring.jl:40\u001b[24m\u001b[39m\n\u001b[0m  ...\n",
      "",
      "Stacktrace:",
      " [1] top-level scope",
      "   @ In[327]:1"
     ]
    }
   ],
   "source": [
    "resize!(x, 30, 9)"
   ]
  },
  {
   "cell_type": "code",
   "execution_count": 329,
   "id": "0864d628-d032-4cc1-bcd5-aa6bef2f1301",
   "metadata": {},
   "outputs": [
    {
     "name": "stdout",
     "output_type": "stream",
     "text": [
      "search: \u001b[0m\u001b[1mr\u001b[22m\u001b[0m\u001b[1me\u001b[22m\u001b[0m\u001b[1ms\u001b[22m\u001b[0m\u001b[1mi\u001b[22m\u001b[0m\u001b[1mz\u001b[22m\u001b[0m\u001b[1me\u001b[22m\u001b[0m\u001b[1m!\u001b[22m\n",
      "\n"
     ]
    },
    {
     "data": {
      "text/latex": [
       "\\begin{verbatim}\n",
       "resize!(a::Vector, n::Integer) -> Vector\n",
       "\\end{verbatim}\n",
       "Resize \\texttt{a} to contain \\texttt{n} elements. If \\texttt{n} is smaller than the current collection length, the first \\texttt{n} elements will be retained. If \\texttt{n} is larger, the new elements are not guaranteed to be initialized.\n",
       "\n",
       "\\section{Examples}\n",
       "\\begin{verbatim}\n",
       "julia> resize!([6, 5, 4, 3, 2, 1], 3)\n",
       "3-element Vector{Int64}:\n",
       " 6\n",
       " 5\n",
       " 4\n",
       "\n",
       "julia> a = resize!([6, 5, 4, 3, 2, 1], 8);\n",
       "\n",
       "julia> length(a)\n",
       "8\n",
       "\n",
       "julia> a[1:6]\n",
       "6-element Vector{Int64}:\n",
       " 6\n",
       " 5\n",
       " 4\n",
       " 3\n",
       " 2\n",
       " 1\n",
       "\\end{verbatim}\n",
       "\\rule{\\textwidth}{1pt}\n",
       "\\begin{verbatim}\n",
       "resize!(df::DataFrame, n::Integer)\n",
       "\\end{verbatim}\n",
       "Resize \\texttt{df} to have \\texttt{n} rows by calling \\texttt{resize!} on all columns of \\texttt{df}.\n",
       "\n",
       "Metadata: this function preserves table-level and column-level \\texttt{:note}-style metadata.\n",
       "\n",
       "\\section{Examples}\n",
       "\\begin{verbatim}\n",
       "julia> df = DataFrame(a=1:3, b=4:6)\n",
       "3×2 DataFrame\n",
       " Row │ a      b\n",
       "     │ Int64  Int64\n",
       "─────┼──────────────\n",
       "   1 │     1      4\n",
       "   2 │     2      5\n",
       "   3 │     3      6\n",
       "\n",
       "julia> resize!(df, 2)\n",
       "2×2 DataFrame\n",
       " Row │ a      b\n",
       "     │ Int64  Int64\n",
       "─────┼──────────────\n",
       "   1 │     1      4\n",
       "   2 │     2      5\n",
       "\\end{verbatim}\n"
      ],
      "text/markdown": [
       "```\n",
       "resize!(a::Vector, n::Integer) -> Vector\n",
       "```\n",
       "\n",
       "Resize `a` to contain `n` elements. If `n` is smaller than the current collection length, the first `n` elements will be retained. If `n` is larger, the new elements are not guaranteed to be initialized.\n",
       "\n",
       "# Examples\n",
       "\n",
       "```jldoctest\n",
       "julia> resize!([6, 5, 4, 3, 2, 1], 3)\n",
       "3-element Vector{Int64}:\n",
       " 6\n",
       " 5\n",
       " 4\n",
       "\n",
       "julia> a = resize!([6, 5, 4, 3, 2, 1], 8);\n",
       "\n",
       "julia> length(a)\n",
       "8\n",
       "\n",
       "julia> a[1:6]\n",
       "6-element Vector{Int64}:\n",
       " 6\n",
       " 5\n",
       " 4\n",
       " 3\n",
       " 2\n",
       " 1\n",
       "```\n",
       "\n",
       "---\n",
       "\n",
       "```\n",
       "resize!(df::DataFrame, n::Integer)\n",
       "```\n",
       "\n",
       "Resize `df` to have `n` rows by calling `resize!` on all columns of `df`.\n",
       "\n",
       "Metadata: this function preserves table-level and column-level `:note`-style metadata.\n",
       "\n",
       "# Examples\n",
       "\n",
       "```jldoctest\n",
       "julia> df = DataFrame(a=1:3, b=4:6)\n",
       "3×2 DataFrame\n",
       " Row │ a      b\n",
       "     │ Int64  Int64\n",
       "─────┼──────────────\n",
       "   1 │     1      4\n",
       "   2 │     2      5\n",
       "   3 │     3      6\n",
       "\n",
       "julia> resize!(df, 2)\n",
       "2×2 DataFrame\n",
       " Row │ a      b\n",
       "     │ Int64  Int64\n",
       "─────┼──────────────\n",
       "   1 │     1      4\n",
       "   2 │     2      5\n",
       "```\n"
      ],
      "text/plain": [
       "\u001b[36m  resize!(a::Vector, n::Integer) -> Vector\u001b[39m\n",
       "\n",
       "  Resize \u001b[36ma\u001b[39m to contain \u001b[36mn\u001b[39m elements. If \u001b[36mn\u001b[39m is smaller than the current collection\n",
       "  length, the first \u001b[36mn\u001b[39m elements will be retained. If \u001b[36mn\u001b[39m is larger, the new\n",
       "  elements are not guaranteed to be initialized.\n",
       "\n",
       "\u001b[1m  Examples\u001b[22m\n",
       "\u001b[1m  ≡≡≡≡≡≡≡≡\u001b[22m\n",
       "\n",
       "\u001b[36m  julia> resize!([6, 5, 4, 3, 2, 1], 3)\u001b[39m\n",
       "\u001b[36m  3-element Vector{Int64}:\u001b[39m\n",
       "\u001b[36m   6\u001b[39m\n",
       "\u001b[36m   5\u001b[39m\n",
       "\u001b[36m   4\u001b[39m\n",
       "\u001b[36m  \u001b[39m\n",
       "\u001b[36m  julia> a = resize!([6, 5, 4, 3, 2, 1], 8);\u001b[39m\n",
       "\u001b[36m  \u001b[39m\n",
       "\u001b[36m  julia> length(a)\u001b[39m\n",
       "\u001b[36m  8\u001b[39m\n",
       "\u001b[36m  \u001b[39m\n",
       "\u001b[36m  julia> a[1:6]\u001b[39m\n",
       "\u001b[36m  6-element Vector{Int64}:\u001b[39m\n",
       "\u001b[36m   6\u001b[39m\n",
       "\u001b[36m   5\u001b[39m\n",
       "\u001b[36m   4\u001b[39m\n",
       "\u001b[36m   3\u001b[39m\n",
       "\u001b[36m   2\u001b[39m\n",
       "\u001b[36m   1\u001b[39m\n",
       "\n",
       "  ────────────────────────────────────────────────────────────────────────────\n",
       "\n",
       "\u001b[36m  resize!(df::DataFrame, n::Integer)\u001b[39m\n",
       "\n",
       "  Resize \u001b[36mdf\u001b[39m to have \u001b[36mn\u001b[39m rows by calling \u001b[36mresize!\u001b[39m on all columns of \u001b[36mdf\u001b[39m.\n",
       "\n",
       "  Metadata: this function preserves table-level and column-level \u001b[36m:note\u001b[39m-style\n",
       "  metadata.\n",
       "\n",
       "\u001b[1m  Examples\u001b[22m\n",
       "\u001b[1m  ≡≡≡≡≡≡≡≡\u001b[22m\n",
       "\n",
       "\u001b[36m  julia> df = DataFrame(a=1:3, b=4:6)\u001b[39m\n",
       "\u001b[36m  3×2 DataFrame\u001b[39m\n",
       "\u001b[36m   Row │ a      b\u001b[39m\n",
       "\u001b[36m       │ Int64  Int64\u001b[39m\n",
       "\u001b[36m  ─────┼──────────────\u001b[39m\n",
       "\u001b[36m     1 │     1      4\u001b[39m\n",
       "\u001b[36m     2 │     2      5\u001b[39m\n",
       "\u001b[36m     3 │     3      6\u001b[39m\n",
       "\u001b[36m  \u001b[39m\n",
       "\u001b[36m  julia> resize!(df, 2)\u001b[39m\n",
       "\u001b[36m  2×2 DataFrame\u001b[39m\n",
       "\u001b[36m   Row │ a      b\u001b[39m\n",
       "\u001b[36m       │ Int64  Int64\u001b[39m\n",
       "\u001b[36m  ─────┼──────────────\u001b[39m\n",
       "\u001b[36m     1 │     1      4\u001b[39m\n",
       "\u001b[36m     2 │     2      5\u001b[39m"
      ]
     },
     "execution_count": 329,
     "metadata": {},
     "output_type": "execute_result"
    }
   ],
   "source": [
    "?resize!"
   ]
  },
  {
   "cell_type": "code",
   "execution_count": null,
   "id": "7686453b-9bc3-47e7-a663-ada54f1baa79",
   "metadata": {},
   "outputs": [],
   "source": []
  },
  {
   "cell_type": "code",
   "execution_count": null,
   "id": "7d96db21-e0a1-4077-9ea6-386d1f94a41c",
   "metadata": {},
   "outputs": [],
   "source": []
  },
  {
   "cell_type": "code",
   "execution_count": 75,
   "id": "92926ce0-982a-498d-8562-8a497d3cedd0",
   "metadata": {},
   "outputs": [
    {
     "data": {
      "text/plain": [
       "(2458, 7142)"
      ]
     },
     "execution_count": 75,
     "metadata": {},
     "output_type": "execute_result"
    }
   ],
   "source": [
    "graph_wrapper_dprk_undir.dims"
   ]
  },
  {
   "cell_type": "code",
   "execution_count": null,
   "id": "d639b96b-5af2-4af3-8650-d1e3b04958b0",
   "metadata": {},
   "outputs": [],
   "source": []
  }
 ],
 "metadata": {
  "kernelspec": {
   "display_name": "Julia 1.10.5",
   "language": "julia",
   "name": "julia-1.10"
  },
  "language_info": {
   "file_extension": ".jl",
   "mimetype": "application/julia",
   "name": "julia",
   "version": "1.10.5"
  }
 },
 "nbformat": 4,
 "nbformat_minor": 5
}
