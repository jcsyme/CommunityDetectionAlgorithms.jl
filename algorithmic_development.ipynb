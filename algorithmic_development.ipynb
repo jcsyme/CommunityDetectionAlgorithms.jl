{
 "cells": [
  {
   "cell_type": "code",
   "execution_count": 1,
   "id": "e34812de-5441-468f-a76f-34b816ae33dd",
   "metadata": {},
   "outputs": [],
   "source": [
    "using Revise \n",
    "\n",
    "using Graphs\n",
    "using Random\n",
    "using SimpleWeightedGraphs\n",
    "using SparseArrays\n",
    "using StatsBase"
   ]
  },
  {
   "cell_type": "code",
   "execution_count": 2,
   "id": "0b163852-f231-4a3d-806d-7200954e9392",
   "metadata": {
    "collapsed": true,
    "jupyter": {
     "outputs_hidden": true
    },
    "tags": []
   },
   "outputs": [
    {
     "name": "stderr",
     "output_type": "stream",
     "text": [
      "\u001b[32m\u001b[1m   Resolving\u001b[22m\u001b[39m package versions...\n",
      "\u001b[32m\u001b[1m  No Changes\u001b[22m\u001b[39m to `~/Documents/Projects/git_jbus/CommunityDetectionAlgorithms/Project.toml`\n",
      "\u001b[32m\u001b[1m  No Changes\u001b[22m\u001b[39m to `~/Documents/Projects/git_jbus/CommunityDetectionAlgorithms/Manifest.toml`\n",
      "\u001b[32m\u001b[1mPrecompiling\u001b[22m\u001b[39m IterativeHeaps\n",
      "\u001b[32m  ✓ \u001b[39mIterativeHeaps\n",
      "  1 dependency successfully precompiled in 2 seconds. 2 already precompiled.\n",
      "\u001b[32m\u001b[1m   Resolving\u001b[22m\u001b[39m package versions...\n",
      "\u001b[32m\u001b[1m  No Changes\u001b[22m\u001b[39m to `~/Documents/Projects/git_jbus/CommunityDetectionAlgorithms/Project.toml`\n",
      "\u001b[32m\u001b[1m  No Changes\u001b[22m\u001b[39m to `~/Documents/Projects/git_jbus/CommunityDetectionAlgorithms/Manifest.toml`\n",
      "\u001b[32m\u001b[1mPrecompiling\u001b[22m\u001b[39m GraphDistanceAlgorithms\n",
      "\u001b[36m\u001b[1m        Info\u001b[22m\u001b[39m Given GraphDistanceAlgorithms was explicitly requested, output will be shown live \u001b[0K\n",
      "\u001b[0K\u001b[32m\u001b[1m   Resolving\u001b[22m\u001b[39m package versions...\n",
      "\u001b[0K\u001b[32m\u001b[1m  No Changes\u001b[22m\u001b[39m to `~/Documents/Projects/git_jbus/CommunityDetectionAlgorithms/Project.toml`\n",
      "\u001b[0K\u001b[32m\u001b[1m  No Changes\u001b[22m\u001b[39m to `~/Documents/Projects/git_jbus/CommunityDetectionAlgorithms/Manifest.toml`\n",
      "\u001b[32m  ✓ \u001b[39mGraphDistanceAlgorithms\n",
      "  1 dependency successfully precompiled in 4 seconds. 23 already precompiled.\n",
      "  \u001b[33m1\u001b[39m dependency had output during precompilation:\u001b[33m\n",
      "┌ \u001b[39mGraphDistanceAlgorithms\u001b[33m\n",
      "│  \u001b[39m[Output was shown above]\u001b[33m\n",
      "└  \u001b[39m\n",
      "\u001b[32m\u001b[1m   Resolving\u001b[22m\u001b[39m package versions...\n",
      "\u001b[32m\u001b[1m  No Changes\u001b[22m\u001b[39m to `~/Documents/Projects/git_jbus/CommunityDetectionAlgorithms/Project.toml`\n",
      "\u001b[32m\u001b[1m  No Changes\u001b[22m\u001b[39m to `~/Documents/Projects/git_jbus/CommunityDetectionAlgorithms/Manifest.toml`\n",
      "\u001b[32m\u001b[1mPrecompiling\u001b[22m\u001b[39m GraphFragments\n",
      "\u001b[36m\u001b[1m        Info\u001b[22m\u001b[39m Given GraphFragments was explicitly requested, output will be shown live \u001b[0K\n",
      "\u001b[0K\u001b[32m\u001b[1m   Resolving\u001b[22m\u001b[39m package versions...\n",
      "\u001b[0K\u001b[32m\u001b[1m  No Changes\u001b[22m\u001b[39m to `~/Documents/Projects/git_jbus/CommunityDetectionAlgorithms/Project.toml`\n",
      "\u001b[0K\u001b[32m\u001b[1m  No Changes\u001b[22m\u001b[39m to `~/Documents/Projects/git_jbus/CommunityDetectionAlgorithms/Manifest.toml`\n",
      "\u001b[32m  ✓ \u001b[39mGraphFragments\n",
      "  1 dependency successfully precompiled in 5 seconds. 32 already precompiled.\n",
      "  \u001b[33m1\u001b[39m dependency had output during precompilation:\u001b[33m\n",
      "┌ \u001b[39mGraphFragments\u001b[33m\n",
      "│  \u001b[39m[Output was shown above]\u001b[33m\n",
      "└  \u001b[39m\n",
      "\u001b[32m\u001b[1m   Resolving\u001b[22m\u001b[39m package versions...\n",
      "\u001b[32m\u001b[1m  No Changes\u001b[22m\u001b[39m to `~/Documents/Projects/git_jbus/CommunityDetectionAlgorithms/Project.toml`\n",
      "\u001b[32m\u001b[1m  No Changes\u001b[22m\u001b[39m to `~/Documents/Projects/git_jbus/CommunityDetectionAlgorithms/Manifest.toml`\n",
      "\u001b[32m\u001b[1mPrecompiling\u001b[22m\u001b[39m DiscreteGraphAlgorithms\n",
      "\u001b[36m\u001b[1m        Info\u001b[22m\u001b[39m Given DiscreteGraphAlgorithms was explicitly requested, output will be shown live \u001b[0K\n",
      "\u001b[0K\u001b[32m\u001b[1m   Resolving\u001b[22m\u001b[39m package versions...\n",
      "\u001b[0K\u001b[32m\u001b[1m  No Changes\u001b[22m\u001b[39m to `~/Documents/Projects/git_jbus/CommunityDetectionAlgorithms/Project.toml`\n",
      "\u001b[0K\u001b[32m\u001b[1m  No Changes\u001b[22m\u001b[39m to `~/Documents/Projects/git_jbus/CommunityDetectionAlgorithms/Manifest.toml`\n",
      "\u001b[0K\u001b[32m\u001b[1m   Resolving\u001b[22m\u001b[39m package versions...\n",
      "\u001b[0K\u001b[32m\u001b[1m  No Changes\u001b[22m\u001b[39m to `~/Documents/Projects/git_jbus/CommunityDetectionAlgorithms/Project.toml`\n",
      "\u001b[0K\u001b[32m\u001b[1m  No Changes\u001b[22m\u001b[39m to `~/Documents/Projects/git_jbus/CommunityDetectionAlgorithms/Manifest.toml`\n",
      "\u001b[0K\u001b[32m\u001b[1m   Resolving\u001b[22m\u001b[39m package versions...\n",
      "\u001b[0K\u001b[32m\u001b[1m  No Changes\u001b[22m\u001b[39m to `~/Documents/Projects/git_jbus/CommunityDetectionAlgorithms/Project.toml`\n",
      "\u001b[0K\u001b[32m\u001b[1m  No Changes\u001b[22m\u001b[39m to `~/Documents/Projects/git_jbus/CommunityDetectionAlgorithms/Manifest.toml`\n",
      "\u001b[32m  ✓ \u001b[39mDiscreteGraphAlgorithms\n",
      "  1 dependency successfully precompiled in 10 seconds. 99 already precompiled.\n",
      "  \u001b[33m1\u001b[39m dependency had output during precompilation:\u001b[33m\n",
      "┌ \u001b[39mDiscreteGraphAlgorithms\u001b[33m\n",
      "│  \u001b[39m[Output was shown above]\u001b[33m\n",
      "└  \u001b[39m\n"
     ]
    }
   ],
   "source": [
    "# USE THESE PACKAGES FOR NOW\n",
    "\n",
    "# load IterativeHeaps\n",
    "using Pkg\n",
    "Pkg.develop(path = \"/Users/jsyme/Documents/Projects/git_jbus/IterativeHeaps.jl\")\n",
    "using IterativeHeaps\n",
    "\n",
    "# load GraphDistanceAlgorithms\n",
    "Pkg.develop(path = \"/Users/jsyme/Documents/Projects/git_jbus/GraphDistanceAlgorithms.jl\")\n",
    "using GraphDistanceAlgorithms\n",
    "\n",
    "# get the graph fragments package\n",
    "Pkg.develop(path = \"/Users/jsyme/Documents/Projects/git_jbus/GraphFragments.jl/\")\n",
    "using GraphFragments\n",
    "\n",
    "# get the DiscreteGraphAlgorithms package\n",
    "Pkg.develop(path = \"/Users/jsyme/Documents/Projects/git_jbus/DiscreteGraphAlgorithms.jl/\")\n",
    "using DiscreteGraphAlgorithms"
   ]
  },
  {
   "cell_type": "code",
   "execution_count": 3,
   "id": "8d228254-a6ad-4d7c-b215-49e367f156d9",
   "metadata": {},
   "outputs": [],
   "source": [
    "# use this as a test\n",
    "fp_egl = \"/Users/jsyme/Documents/Projects/FY23/KPP_RIR/edge_lists/dprk_iran_edges.egl\"\n",
    "graph_wrapper_dprk_undir = read_egl(fp_egl);\n",
    "#graph = copy(graph_wrapper_dprk_undir.graph)\n",
    "\n",
    "\n",
    "j, i, w = findnz(graph_wrapper_dprk_undir.A)\n",
    "w = Random.rand(length(w))\n",
    "graph = SimpleWeightedGraph(j, i, w, );\n",
    "\n",
    "\n",
    "\n"
   ]
  },
  {
   "cell_type": "code",
   "execution_count": 15,
   "id": "78bd55bd-ec29-4f78-86cb-5c5c1b90c374",
   "metadata": {},
   "outputs": [
    {
     "data": {
      "text/plain": [
       "tm2 (generic function with 1 method)"
      ]
     },
     "execution_count": 15,
     "metadata": {},
     "output_type": "execute_result"
    }
   ],
   "source": [
    "function testme(\n",
    "    x::Float64;\n",
    "    this_one::Symbol = :you,\n",
    "    kwargs...\n",
    ")\n",
    "    \n",
    "    out = (this_one == :you) ? (x + 9) : (x - 12.4)\n",
    "    \n",
    "    return out\n",
    "end\n",
    "\n",
    "\n",
    "function tm2(\n",
    "    x::Float64;\n",
    "    kwargs...\n",
    ")   \n",
    "    \n",
    "    out = testme(x/2; kwargs...)\n",
    "    \n",
    "    return out\n",
    "end\n",
    "        "
   ]
  },
  {
   "cell_type": "code",
   "execution_count": 22,
   "id": "5fcbdcb1-5a72-4409-a0bd-d1286755b829",
   "metadata": {},
   "outputs": [
    {
     "name": "stdout",
     "output_type": "stream",
     "text": [
      "  0.000001 seconds\n"
     ]
    },
    {
     "data": {
      "text/plain": [
       "11.2"
      ]
     },
     "execution_count": 22,
     "metadata": {},
     "output_type": "execute_result"
    }
   ],
   "source": [
    "@time tm2(4.4; nobody = 4, this_one = :you, eyo_4 = :thisisntit,)\n"
   ]
  },
  {
   "cell_type": "code",
   "execution_count": 7,
   "id": "363b67aa-dfec-445c-8fe5-66564db3d7e3",
   "metadata": {
    "tags": []
   },
   "outputs": [
    {
     "name": "stdout",
     "output_type": "stream",
     "text": [
      "  0.000017 seconds (1 allocation: 48 bytes)\n"
     ]
    },
    {
     "name": "stderr",
     "output_type": "stream",
     "text": [
      "\u001b[91m\u001b[1m┌ \u001b[22m\u001b[39m\u001b[91m\u001b[1mError: \u001b[22m\u001b[39mFailed to revise /Users/jsyme/Documents/Projects/git_jbus/DiscreteGraphAlgorithms.jl/src/Algorithms/GraphOptimizationIterators.jl\n",
      "\u001b[91m\u001b[1m│ \u001b[22m\u001b[39m  exception =\n",
      "\u001b[91m\u001b[1m│ \u001b[22m\u001b[39m   invalid redefinition of constant DiscreteGraphAlgorithms.OptimizationParameters\n",
      "\u001b[91m\u001b[1m│ \u001b[22m\u001b[39m   Stacktrace:\n",
      "\u001b[91m\u001b[1m│ \u001b[22m\u001b[39m    [1] top-level scope\n",
      "\u001b[91m\u001b[1m│ \u001b[22m\u001b[39m   \u001b[90m   @\u001b[39m \u001b[90m\u001b[4mnone:0\u001b[24m\u001b[39m\n",
      "\u001b[91m\u001b[1m│ \u001b[22m\u001b[39m   Revise evaluation error at /Users/jsyme/Documents/Projects/git_jbus/CommunityDetectionAlgorithms/none:0\n",
      "\u001b[91m\u001b[1m│ \u001b[22m\u001b[39m   \n",
      "\u001b[91m\u001b[1m└ \u001b[22m\u001b[39m\u001b[90m@ Revise ~/.julia/packages/Revise/bAgL0/src/packagedef.jl:722\u001b[39m\n",
      "\u001b[33m\u001b[1m┌ \u001b[22m\u001b[39m\u001b[33m\u001b[1mWarning: \u001b[22m\u001b[39mThe running code does not match the saved version for the following files:\n",
      "\u001b[33m\u001b[1m│ \u001b[22m\u001b[39m\n",
      "\u001b[33m\u001b[1m│ \u001b[22m\u001b[39m  /Users/jsyme/Documents/Projects/git_jbus/DiscreteGraphAlgorithms.jl/src/Algorithms/GraphOptimizationIterators.jl\n",
      "\u001b[33m\u001b[1m│ \u001b[22m\u001b[39m\n",
      "\u001b[33m\u001b[1m│ \u001b[22m\u001b[39mIf the error was due to evaluation order, it can sometimes be resolved by calling `Revise.retry()`.\n",
      "\u001b[33m\u001b[1m│ \u001b[22m\u001b[39mUse Revise.errors() to report errors again. Only the first error in each file is shown.\n",
      "\u001b[33m\u001b[1m│ \u001b[22m\u001b[39mYour prompt color may be yellow until the errors are resolved.\n",
      "\u001b[33m\u001b[1m└ \u001b[22m\u001b[39m\u001b[90m@ Revise ~/.julia/packages/Revise/bAgL0/src/packagedef.jl:832\u001b[39m\n"
     ]
    },
    {
     "data": {
      "text/plain": [
       "5-element view(::Vector{Int64}, 67:71) with eltype Int64:\n",
       " 1033\n",
       " 1859\n",
       " 1935\n",
       " 2268\n",
       " 2275"
      ]
     },
     "execution_count": 7,
     "metadata": {},
     "output_type": "execute_result"
    }
   ],
   "source": [
    "@time neighbors(graph, 21)\n",
    "\n"
   ]
  },
  {
   "cell_type": "markdown",
   "id": "053f75c7-c24e-444c-b839-8104fde5e9ad",
   "metadata": {},
   "source": [
    "##  Start building move nodes routine"
   ]
  },
  {
   "cell_type": "code",
   "execution_count": 104,
   "id": "23d4a716-75cc-47c0-8d12-4166b003f721",
   "metadata": {},
   "outputs": [],
   "source": [
    "\n",
    "\"\"\"\n",
    "Create a structure to store some shared vectors that are used \n",
    "    repeatedly throughout the calculation of \n",
    "\n",
    "\"\"\"\n",
    "struct MoveNodesVectorBundle1\n",
    "    n::Int64\n",
    "    vec_comm_membership::Vector{Int64}\n",
    "    vec_comm_neighbors::Vector{Int64}\n",
    "    vec_comm_neighbors_added::Vector{Bool}\n",
    "    vec_comm_size::Vector{Int64}\n",
    "    vec_comm_weights::Union{Vector{Float64}, Vector{Int64}}\n",
    "    vec_verts_stable_q::Vector{Bool}\n",
    "    vec_verts_unstable::Vector{Int64}\n",
    "    \n",
    "    function MoveNodesVectorBundle1(\n",
    "        graph::Union{AbstractGraph, SimpleWeightedGraph};\n",
    "        vec_comm_membership::VecOrNoth{Int64} = nothing,\n",
    "        vec_comm_neighbors::VecOrNoth{Int64} = nothing,\n",
    "        vec_comm_neighbors_added::VecOrNoth{Bool} = nothing,\n",
    "        vec_comm_size::VecOrNoth{Int64} = nothing,\n",
    "        vec_comm_weights::Union{VecOrNoth{Float64}, VecOrNoth{Int64}} = nothing,\n",
    "        vec_verts_stable_q::VecOrNoth{Bool} = nothing,\n",
    "        vec_verts_unstable::VecOrNoth{Int64} = nothing, # this is the queue\n",
    "    )\n",
    "        # initialize sizing parameter\n",
    "        n = nv(graph)\n",
    "    \n",
    "        \n",
    "        ##  INITIALIZE VECTORS\n",
    "        \n",
    "        # community membership; \n",
    "        vec_comm_membership = initialize_vector(\n",
    "            vec_comm_membership, \n",
    "            n,\n",
    "            Int64;\n",
    "            fill_func = nothing,\n",
    "        )\n",
    "        \n",
    "        vec_comm_neighbors = initialize_vector(vec_comm_neighbors, n, Int64)\n",
    "        vec_comm_neighbors_added = initialize_vector(vec_comm_neighbors_added, n, Bool)\n",
    "        vec_comm_size = initialize_vector(vec_comm_size, n, Int64)\n",
    "        vec_comm_weights = initialize_vector(vec_comm_weights, n, eltype(Graphs.weights(graph)))\n",
    "        vec_verts_stable_q = initialize_vector(vec_verts_stable_q, n, Bool)\n",
    "        vec_verts_unstable = initialize_vector(vec_verts_unstable, n, Int64)\n",
    "        \n",
    "        \n",
    "        # update the queue as 1:n \n",
    "        vec_verts_unstable .= 1:n\n",
    "        \n",
    "        \n",
    "        # return the output\n",
    "        return new(\n",
    "            n,\n",
    "            vec_comm_neighbors,\n",
    "            vec_comm_neighbors_added,\n",
    "            vec_comm_size,\n",
    "            vec_comm_weights,\n",
    "            vec_verts_stable_q,\n",
    "            vec_verts_unstable, \n",
    "        )\n",
    "        \n",
    "    end\n",
    "end\n",
    "\n",
    "\n",
    "\n",
    "\"\"\"\n",
    "Prepare vectors for use in the MoveNodes function\n",
    "\n",
    "# Constructs\n",
    "\n",
    "```\n",
    "prepare_move_nodes_vectors!(\n",
    "    bundle::MoveNodesVectorBundle1;\n",
    ")\n",
    "\n",
    "\n",
    "##  Function Arguments\n",
    "\n",
    "- `bundle`: MoveNodesVectorBundle1 to update before calculating differences\n",
    "    and choosing next community\n",
    "```\n",
    "\n",
    "\n",
    "\"\"\"\n",
    "function prepare_move_nodes_vectors!(\n",
    "    bundle::MoveNodesVectorBundle1;\n",
    ")\n",
    "    # initialize vector fills\n",
    "    fill!(bundle.vec_comm_neighbors, 0) # \n",
    "    fill!(bundle.vec_comm_neighbors_added, 0) # clear, all are false\n",
    "    fill!(bundle.vec_comm_size, 0) # all comms set to 0\n",
    "    fill!(bundle.vec_comm_weights, 0)\n",
    "    fill!(bundle.vec_verts_stable_q, 0)\n",
    "    \n",
    "    # update and shuffle the queue index\n",
    "    bundle.vec_verts_unstable .= 1:bundle.n\n",
    "    StatsBase.shuffle!(bundle.vec_verts_unstable)\n",
    "end\n",
    "\n",
    "\n",
    "\n",
    "bundle = MoveNodesVectorBundle1(graph)\n",
    "prepare_move_nodes_vectors!(bundle);\n",
    "\n",
    "\n",
    "\n",
    "\n",
    "function move_nodes!(\n",
    "    partition::AbstractPartition,\n",
    ")\n",
    "\n"
   ]
  },
  {
   "cell_type": "code",
   "execution_count": 113,
   "id": "b85cb00c-e20a-4467-924e-154ea4e4dc16",
   "metadata": {},
   "outputs": [
    {
     "data": {
      "text/plain": [
       "false"
      ]
     },
     "execution_count": 113,
     "metadata": {},
     "output_type": "execute_result"
    }
   ],
   "source": [
    "isempty(queue)\n"
   ]
  },
  {
   "cell_type": "code",
   "execution_count": 64,
   "id": "cd22e28e-f8fa-457d-bf48-b180bac4537c",
   "metadata": {},
   "outputs": [
    {
     "data": {
      "text/plain": [
       "SimpleQueue2{Int64}([63, 64, 34, 51, 11, 33, 37, 98, 87, 67  …  57, 117, 75, 53, 76, 15, 88, 99, 96, 108], [119], 119, 0)"
      ]
     },
     "execution_count": 64,
     "metadata": {},
     "output_type": "execute_result"
    }
   ],
   "source": [
    "queue = SimpleQueue2{Int64}(\n",
    "    119;\n",
    "    force_unsafe_index_init = true,\n",
    "    index = StatsBase.shuffle(collect(1:119)),\n",
    ")"
   ]
  },
  {
   "cell_type": "code",
   "execution_count": 122,
   "id": "28189657-5e01-4ae9-b813-f2c6bdb97a4f",
   "metadata": {},
   "outputs": [
    {
     "data": {
      "text/plain": [
       "15-element Vector{Int64}:\n",
       "  1\n",
       "  2\n",
       "  3\n",
       "  4\n",
       "  5\n",
       "  6\n",
       "  7\n",
       "  8\n",
       "  9\n",
       " 10\n",
       " 11\n",
       " 12\n",
       " 13\n",
       " 14\n",
       " 15"
      ]
     },
     "execution_count": 122,
     "metadata": {},
     "output_type": "execute_result"
    }
   ],
   "source": [
    "x = collect(1:15)\n",
    "\n",
    "IterativeHeaps.initialize_vector(x, 15; fill_func = nothing, )\n"
   ]
  },
  {
   "cell_type": "code",
   "execution_count": 101,
   "id": "584ca084-eb87-49e6-9beb-69d79a8a1546",
   "metadata": {},
   "outputs": [
    {
     "name": "stdout",
     "output_type": "stream",
     "text": [
      "  0.000006 seconds\n"
     ]
    }
   ],
   "source": [
    "@time for i in 1:10\n",
    "    x[i] = i\n",
    "end"
   ]
  },
  {
   "cell_type": "code",
   "execution_count": null,
   "id": "315e4108-e6bd-4b7e-939e-d2f187ce91ca",
   "metadata": {},
   "outputs": [
    {
     "data": {
      "text/plain": [
       "10-element Vector{Bool}:\n",
       " 0\n",
       " 0\n",
       " 0\n",
       " 0\n",
       " 0\n",
       " 0\n",
       " 0\n",
       " 0\n",
       " 0\n",
       " 0"
      ]
     },
     "execution_count": 50,
     "metadata": {},
     "output_type": "execute_result"
    }
   ],
   "source": [
    "vv = nothing\n",
    "vv = vv, 10, Bool)\n",
    "\n",
    "\n",
    "\n",
    "initialize_vector("
   ]
  },
  {
   "cell_type": "code",
   "execution_count": null,
   "id": "336a052b-ccf0-48e2-aaf7-00fe71d7c68f",
   "metadata": {},
   "outputs": [],
   "source": [
    "function delta_hamiltonian_constant_potts(\n",
    "    v::Int64,\n",
    "    vec_membership::Vector{Int64};\n",
    "    vec_comm_size::Vector\n",
    ")\n",
    "    \n",
    "    adj = neighbors(graph, vertex)\n",
    "    \n",
    "    # iterate over neighbors to determine which are in the same comm\n",
    "    for u in adj\n",
    "        if vec_membership[u] == vec_membership[v]\n",
    "            \n",
    "        end\n",
    "    end\n",
    "    \n",
    "    \n",
    "end"
   ]
  },
  {
   "cell_type": "code",
   "execution_count": 9,
   "id": "8430ad62-651e-4410-b551-a0973fb268c0",
   "metadata": {},
   "outputs": [
    {
     "data": {
      "text/plain": [
       "Union{Nothing, Vector{T}} where T"
      ]
     },
     "execution_count": 9,
     "metadata": {},
     "output_type": "execute_result"
    }
   ],
   "source": [
    "VecOrNoth{T} = Union{Vector{T}, Nothing}"
   ]
  },
  {
   "cell_type": "code",
   "execution_count": 33,
   "id": "a1cb1620-00ef-4689-9db9-457ac4c03264",
   "metadata": {},
   "outputs": [
    {
     "data": {
      "text/plain": [
       "2-element Vector{Real}:\n",
       " 1\n",
       " 2"
      ]
     },
     "execution_count": 33,
     "metadata": {},
     "output_type": "execute_result"
    }
   ],
   "source": [
    "v .= 1:2"
   ]
  },
  {
   "cell_type": "code",
   "execution_count": 6,
   "id": "ed626997-17af-4e4e-ac1b-33a5fca1c8eb",
   "metadata": {},
   "outputs": [
    {
     "name": "stdout",
     "output_type": "stream",
     "text": [
      "Edge 3 => 7 with weight 1.1744968244044456\n",
      "Edge 10 => 11 with weight 1.0207272120483042\n",
      "Edge 4 => 34 with weight 1.3078873868102796\n",
      "Edge 45 => 46 with weight 1.4506503952728669\n",
      "Edge 45 => 47 with weight 0.5627383554134274\n",
      "Edge 37 => 48 with weight 0.9572967380909618\n",
      "Edge 14 => 63 with weight 0.710919263528397\n",
      "Edge 17 => 66 with weight 0.7863439120316822\n",
      "Edge 22 => 74 with weight 1.3505558013952115\n"
     ]
    }
   ],
   "source": [
    "e2 = nothing\n",
    "\n",
    "for (i, e) in enumerate(edges(graph))\n",
    "    (i < 10) && println(e)\n",
    "    (i == 1) && (e2 = e)\n",
    "end"
   ]
  },
  {
   "cell_type": "code",
   "execution_count": null,
   "id": "c7d38df1-3638-4478-9f2b-4bdd66641402",
   "metadata": {},
   "outputs": [],
   "source": [
    "membs = StatsBase.sample(1:30, nv(graph));"
   ]
  },
  {
   "cell_type": "code",
   "execution_count": 316,
   "id": "c705deb0-d634-4062-bacc-6d7b235eb734",
   "metadata": {},
   "outputs": [
    {
     "name": "stdout",
     "output_type": "stream",
     "text": [
      "  0.000645 seconds (15 allocations: 159.828 KiB)\n"
     ]
    },
    {
     "data": {
      "text/plain": [
       "128.34227531160312"
      ]
     },
     "execution_count": 316,
     "metadata": {},
     "output_type": "execute_result"
    }
   ],
   "source": [
    "#\n",
    "@time hamiltonian_constant_potts(\n",
    "    membs,\n",
    "    0.0001,\n",
    "    graph,\n",
    ")"
   ]
  },
  {
   "cell_type": "code",
   "execution_count": 323,
   "id": "26dad030-87d1-4de8-b793-858ad994e71b",
   "metadata": {},
   "outputs": [
    {
     "data": {
      "text/plain": [
       "24"
      ]
     },
     "execution_count": 323,
     "metadata": {},
     "output_type": "execute_result"
    }
   ],
   "source": [
    "\"\"\"\n",
    "\"\"\"\n",
    "struct GraphPartition1\n",
    "    graph::Union{AbstractGraph, AbstractWeightedGraph}\n",
    "    element_size::Vector{Int64}\n",
    "    membership::Vector{Int64}\n",
    "    \n",
    "    \n",
    "    function GraphPartition1(\n",
    "        graph::Union{AbstractGraph, AbstractWeightedGraph};\n",
    "        element_size::Union{Vector{Int64}, Nothing} = nothing,\n",
    "        membership::Union{Vector{Int64}, Nothing} = nothing,\n",
    "    )\n",
    "        \n",
    "        ##  CHECK MEMBERSHIP \n",
    "        \n",
    "        \n",
    "        if isa(membership, Nothing)\n",
    "            membership = collect(1:nv(graph))\n",
    "        end\n",
    "        \n",
    "        if size(membership)[1] != nv(graph)\n",
    "        end\n",
    "        \n",
    "        # \n",
    "        if \n",
    "        \n",
    "        \n",
    "        \n",
    "        return new(\n",
    "            graph,\n",
    "            community_size,\n",
    "            membership,\n",
    "        )\n",
    "    end\n",
    "end"
   ]
  },
  {
   "cell_type": "code",
   "execution_count": 324,
   "id": "5d94a054-e819-4992-8106-0aa15cb39dc0",
   "metadata": {},
   "outputs": [
    {
     "name": "stdout",
     "output_type": "stream",
     "text": [
      "24\n",
      "24\n",
      "24\n",
      "24\n",
      "24\n",
      "24\n",
      "24\n"
     ]
    }
   ],
   "source": [
    "v = 2\n",
    "\n",
    "dict_visited = Dict()\n",
    "for u in outneighbors(graph, v)\n",
    "    \n",
    "    comm = membs[v]\n",
    "    \n",
    "    \n",
    "    \n",
    "    \n",
    "end"
   ]
  },
  {
   "cell_type": "code",
   "execution_count": 328,
   "id": "7a5ed8b0-b1f8-4226-adbd-067f9c7e422d",
   "metadata": {},
   "outputs": [
    {
     "data": {
      "text/plain": [
       "20-element Vector{Int64}:\n",
       "  1\n",
       "  2\n",
       "  3\n",
       "  4\n",
       "  5\n",
       "  6\n",
       "  7\n",
       "  8\n",
       "  9\n",
       " 10\n",
       " 11\n",
       " 12\n",
       " 13\n",
       " 14\n",
       " 15\n",
       " 16\n",
       " 17\n",
       " 18\n",
       " 19\n",
       " 20"
      ]
     },
     "execution_count": 328,
     "metadata": {},
     "output_type": "execute_result"
    }
   ],
   "source": [
    "x = collect(1:20)"
   ]
  },
  {
   "cell_type": "code",
   "execution_count": 128,
   "id": "8535d5f1-9a9e-4fa0-a45a-1becf4c03bff",
   "metadata": {},
   "outputs": [],
   "source": [
    "#findall(x -> (x == 2), graph_wrapper_dprk_undir.A.colptr)\n",
    "#outneighbors(graph_wrapper_dprk_undir.graph, 1)"
   ]
  },
  {
   "cell_type": "code",
   "execution_count": 327,
   "id": "a67bc4e4-c8f5-426a-af7f-ce7d8b8166dd",
   "metadata": {},
   "outputs": [
    {
     "ename": "LoadError",
     "evalue": "MethodError: no method matching resize!(::Vector{Int64}, ::Int64, ::Int64)\n\n\u001b[0mClosest candidates are:\n\u001b[0m  resize!(::Vector, ::Integer)\n\u001b[0m\u001b[90m   @\u001b[39m \u001b[90mBase\u001b[39m \u001b[90m\u001b[4marray.jl:1312\u001b[24m\u001b[39m\n\u001b[0m  resize!(\u001b[91m::DataFrames.DataFrame\u001b[39m, ::Integer)\n\u001b[0m\u001b[90m   @\u001b[39m \u001b[35mDataFrames\u001b[39m \u001b[90m~/.julia/packages/DataFrames/58MUJ/src/dataframe/\u001b[39m\u001b[90m\u001b[4mdataframe.jl:1073\u001b[24m\u001b[39m\n\u001b[0m  resize!(\u001b[91m::MathOptInterface.Nonlinear.ReverseAD.Coloring.IndexedSet\u001b[39m, ::Integer)\n\u001b[0m\u001b[90m   @\u001b[39m \u001b[33mMathOptInterface\u001b[39m \u001b[90m~/.julia/packages/MathOptInterface/2CULs/src/Nonlinear/ReverseAD/Coloring/\u001b[39m\u001b[90m\u001b[4mColoring.jl:40\u001b[24m\u001b[39m\n\u001b[0m  ...\n",
     "output_type": "error",
     "traceback": [
      "MethodError: no method matching resize!(::Vector{Int64}, ::Int64, ::Int64)\n\n\u001b[0mClosest candidates are:\n\u001b[0m  resize!(::Vector, ::Integer)\n\u001b[0m\u001b[90m   @\u001b[39m \u001b[90mBase\u001b[39m \u001b[90m\u001b[4marray.jl:1312\u001b[24m\u001b[39m\n\u001b[0m  resize!(\u001b[91m::DataFrames.DataFrame\u001b[39m, ::Integer)\n\u001b[0m\u001b[90m   @\u001b[39m \u001b[35mDataFrames\u001b[39m \u001b[90m~/.julia/packages/DataFrames/58MUJ/src/dataframe/\u001b[39m\u001b[90m\u001b[4mdataframe.jl:1073\u001b[24m\u001b[39m\n\u001b[0m  resize!(\u001b[91m::MathOptInterface.Nonlinear.ReverseAD.Coloring.IndexedSet\u001b[39m, ::Integer)\n\u001b[0m\u001b[90m   @\u001b[39m \u001b[33mMathOptInterface\u001b[39m \u001b[90m~/.julia/packages/MathOptInterface/2CULs/src/Nonlinear/ReverseAD/Coloring/\u001b[39m\u001b[90m\u001b[4mColoring.jl:40\u001b[24m\u001b[39m\n\u001b[0m  ...\n",
      "",
      "Stacktrace:",
      " [1] top-level scope",
      "   @ In[327]:1"
     ]
    }
   ],
   "source": [
    "resize!(x, 30, 9)"
   ]
  },
  {
   "cell_type": "code",
   "execution_count": 329,
   "id": "0864d628-d032-4cc1-bcd5-aa6bef2f1301",
   "metadata": {},
   "outputs": [
    {
     "name": "stdout",
     "output_type": "stream",
     "text": [
      "search: \u001b[0m\u001b[1mr\u001b[22m\u001b[0m\u001b[1me\u001b[22m\u001b[0m\u001b[1ms\u001b[22m\u001b[0m\u001b[1mi\u001b[22m\u001b[0m\u001b[1mz\u001b[22m\u001b[0m\u001b[1me\u001b[22m\u001b[0m\u001b[1m!\u001b[22m\n",
      "\n"
     ]
    },
    {
     "data": {
      "text/latex": [
       "\\begin{verbatim}\n",
       "resize!(a::Vector, n::Integer) -> Vector\n",
       "\\end{verbatim}\n",
       "Resize \\texttt{a} to contain \\texttt{n} elements. If \\texttt{n} is smaller than the current collection length, the first \\texttt{n} elements will be retained. If \\texttt{n} is larger, the new elements are not guaranteed to be initialized.\n",
       "\n",
       "\\section{Examples}\n",
       "\\begin{verbatim}\n",
       "julia> resize!([6, 5, 4, 3, 2, 1], 3)\n",
       "3-element Vector{Int64}:\n",
       " 6\n",
       " 5\n",
       " 4\n",
       "\n",
       "julia> a = resize!([6, 5, 4, 3, 2, 1], 8);\n",
       "\n",
       "julia> length(a)\n",
       "8\n",
       "\n",
       "julia> a[1:6]\n",
       "6-element Vector{Int64}:\n",
       " 6\n",
       " 5\n",
       " 4\n",
       " 3\n",
       " 2\n",
       " 1\n",
       "\\end{verbatim}\n",
       "\\rule{\\textwidth}{1pt}\n",
       "\\begin{verbatim}\n",
       "resize!(df::DataFrame, n::Integer)\n",
       "\\end{verbatim}\n",
       "Resize \\texttt{df} to have \\texttt{n} rows by calling \\texttt{resize!} on all columns of \\texttt{df}.\n",
       "\n",
       "Metadata: this function preserves table-level and column-level \\texttt{:note}-style metadata.\n",
       "\n",
       "\\section{Examples}\n",
       "\\begin{verbatim}\n",
       "julia> df = DataFrame(a=1:3, b=4:6)\n",
       "3×2 DataFrame\n",
       " Row │ a      b\n",
       "     │ Int64  Int64\n",
       "─────┼──────────────\n",
       "   1 │     1      4\n",
       "   2 │     2      5\n",
       "   3 │     3      6\n",
       "\n",
       "julia> resize!(df, 2)\n",
       "2×2 DataFrame\n",
       " Row │ a      b\n",
       "     │ Int64  Int64\n",
       "─────┼──────────────\n",
       "   1 │     1      4\n",
       "   2 │     2      5\n",
       "\\end{verbatim}\n"
      ],
      "text/markdown": [
       "```\n",
       "resize!(a::Vector, n::Integer) -> Vector\n",
       "```\n",
       "\n",
       "Resize `a` to contain `n` elements. If `n` is smaller than the current collection length, the first `n` elements will be retained. If `n` is larger, the new elements are not guaranteed to be initialized.\n",
       "\n",
       "# Examples\n",
       "\n",
       "```jldoctest\n",
       "julia> resize!([6, 5, 4, 3, 2, 1], 3)\n",
       "3-element Vector{Int64}:\n",
       " 6\n",
       " 5\n",
       " 4\n",
       "\n",
       "julia> a = resize!([6, 5, 4, 3, 2, 1], 8);\n",
       "\n",
       "julia> length(a)\n",
       "8\n",
       "\n",
       "julia> a[1:6]\n",
       "6-element Vector{Int64}:\n",
       " 6\n",
       " 5\n",
       " 4\n",
       " 3\n",
       " 2\n",
       " 1\n",
       "```\n",
       "\n",
       "---\n",
       "\n",
       "```\n",
       "resize!(df::DataFrame, n::Integer)\n",
       "```\n",
       "\n",
       "Resize `df` to have `n` rows by calling `resize!` on all columns of `df`.\n",
       "\n",
       "Metadata: this function preserves table-level and column-level `:note`-style metadata.\n",
       "\n",
       "# Examples\n",
       "\n",
       "```jldoctest\n",
       "julia> df = DataFrame(a=1:3, b=4:6)\n",
       "3×2 DataFrame\n",
       " Row │ a      b\n",
       "     │ Int64  Int64\n",
       "─────┼──────────────\n",
       "   1 │     1      4\n",
       "   2 │     2      5\n",
       "   3 │     3      6\n",
       "\n",
       "julia> resize!(df, 2)\n",
       "2×2 DataFrame\n",
       " Row │ a      b\n",
       "     │ Int64  Int64\n",
       "─────┼──────────────\n",
       "   1 │     1      4\n",
       "   2 │     2      5\n",
       "```\n"
      ],
      "text/plain": [
       "\u001b[36m  resize!(a::Vector, n::Integer) -> Vector\u001b[39m\n",
       "\n",
       "  Resize \u001b[36ma\u001b[39m to contain \u001b[36mn\u001b[39m elements. If \u001b[36mn\u001b[39m is smaller than the current collection\n",
       "  length, the first \u001b[36mn\u001b[39m elements will be retained. If \u001b[36mn\u001b[39m is larger, the new\n",
       "  elements are not guaranteed to be initialized.\n",
       "\n",
       "\u001b[1m  Examples\u001b[22m\n",
       "\u001b[1m  ≡≡≡≡≡≡≡≡\u001b[22m\n",
       "\n",
       "\u001b[36m  julia> resize!([6, 5, 4, 3, 2, 1], 3)\u001b[39m\n",
       "\u001b[36m  3-element Vector{Int64}:\u001b[39m\n",
       "\u001b[36m   6\u001b[39m\n",
       "\u001b[36m   5\u001b[39m\n",
       "\u001b[36m   4\u001b[39m\n",
       "\u001b[36m  \u001b[39m\n",
       "\u001b[36m  julia> a = resize!([6, 5, 4, 3, 2, 1], 8);\u001b[39m\n",
       "\u001b[36m  \u001b[39m\n",
       "\u001b[36m  julia> length(a)\u001b[39m\n",
       "\u001b[36m  8\u001b[39m\n",
       "\u001b[36m  \u001b[39m\n",
       "\u001b[36m  julia> a[1:6]\u001b[39m\n",
       "\u001b[36m  6-element Vector{Int64}:\u001b[39m\n",
       "\u001b[36m   6\u001b[39m\n",
       "\u001b[36m   5\u001b[39m\n",
       "\u001b[36m   4\u001b[39m\n",
       "\u001b[36m   3\u001b[39m\n",
       "\u001b[36m   2\u001b[39m\n",
       "\u001b[36m   1\u001b[39m\n",
       "\n",
       "  ────────────────────────────────────────────────────────────────────────────\n",
       "\n",
       "\u001b[36m  resize!(df::DataFrame, n::Integer)\u001b[39m\n",
       "\n",
       "  Resize \u001b[36mdf\u001b[39m to have \u001b[36mn\u001b[39m rows by calling \u001b[36mresize!\u001b[39m on all columns of \u001b[36mdf\u001b[39m.\n",
       "\n",
       "  Metadata: this function preserves table-level and column-level \u001b[36m:note\u001b[39m-style\n",
       "  metadata.\n",
       "\n",
       "\u001b[1m  Examples\u001b[22m\n",
       "\u001b[1m  ≡≡≡≡≡≡≡≡\u001b[22m\n",
       "\n",
       "\u001b[36m  julia> df = DataFrame(a=1:3, b=4:6)\u001b[39m\n",
       "\u001b[36m  3×2 DataFrame\u001b[39m\n",
       "\u001b[36m   Row │ a      b\u001b[39m\n",
       "\u001b[36m       │ Int64  Int64\u001b[39m\n",
       "\u001b[36m  ─────┼──────────────\u001b[39m\n",
       "\u001b[36m     1 │     1      4\u001b[39m\n",
       "\u001b[36m     2 │     2      5\u001b[39m\n",
       "\u001b[36m     3 │     3      6\u001b[39m\n",
       "\u001b[36m  \u001b[39m\n",
       "\u001b[36m  julia> resize!(df, 2)\u001b[39m\n",
       "\u001b[36m  2×2 DataFrame\u001b[39m\n",
       "\u001b[36m   Row │ a      b\u001b[39m\n",
       "\u001b[36m       │ Int64  Int64\u001b[39m\n",
       "\u001b[36m  ─────┼──────────────\u001b[39m\n",
       "\u001b[36m     1 │     1      4\u001b[39m\n",
       "\u001b[36m     2 │     2      5\u001b[39m"
      ]
     },
     "execution_count": 329,
     "metadata": {},
     "output_type": "execute_result"
    }
   ],
   "source": [
    "?resize!"
   ]
  },
  {
   "cell_type": "code",
   "execution_count": null,
   "id": "7686453b-9bc3-47e7-a663-ada54f1baa79",
   "metadata": {},
   "outputs": [],
   "source": []
  },
  {
   "cell_type": "code",
   "execution_count": null,
   "id": "7d96db21-e0a1-4077-9ea6-386d1f94a41c",
   "metadata": {},
   "outputs": [],
   "source": []
  },
  {
   "cell_type": "code",
   "execution_count": 75,
   "id": "92926ce0-982a-498d-8562-8a497d3cedd0",
   "metadata": {},
   "outputs": [
    {
     "data": {
      "text/plain": [
       "(2458, 7142)"
      ]
     },
     "execution_count": 75,
     "metadata": {},
     "output_type": "execute_result"
    }
   ],
   "source": [
    "graph_wrapper_dprk_undir.dims"
   ]
  },
  {
   "cell_type": "code",
   "execution_count": null,
   "id": "d639b96b-5af2-4af3-8650-d1e3b04958b0",
   "metadata": {},
   "outputs": [],
   "source": []
  }
 ],
 "metadata": {
  "kernelspec": {
   "display_name": "Julia 1.10.3",
   "language": "julia",
   "name": "julia-1.10"
  },
  "language_info": {
   "file_extension": ".jl",
   "mimetype": "application/julia",
   "name": "julia",
   "version": "1.10.3"
  }
 },
 "nbformat": 4,
 "nbformat_minor": 5
}
